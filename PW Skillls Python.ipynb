{
 "cells": [
  {
   "cell_type": "code",
   "execution_count": 1,
   "id": "cbbbe46b",
   "metadata": {},
   "outputs": [],
   "source": [
    "# \"PYTHON BASICS FOR BEGGINERS \"\n",
    "\n",
    "# programming is just a processing of the data.\n",
    "\n",
    "# TODAY:\n",
    " \"\"\"Learning about variable declaration,data type, int , boolean,\n",
    "    Complex nummbers,examples of string slicing,indexing,\n",
    "    string inbuilt functions \"\"\""
   ]
  },
  {
   "cell_type": "code",
   "execution_count": 3,
   "id": "0f94dc0e",
   "metadata": {},
   "outputs": [],
   "source": [
    "# Variables in Python:These are the containers that holds or stores the data\n",
    "a = 1+2\n",
    "# Here a is called variable\n",
    "# Python is self Paced understanding Languages we won't tell Python \n",
    "# to find the type of the data"
   ]
  },
  {
   "cell_type": "code",
   "execution_count": 4,
   "id": "82486f0a",
   "metadata": {},
   "outputs": [
    {
     "name": "stdout",
     "output_type": "stream",
     "text": [
      "3\n"
     ]
    }
   ],
   "source": [
    "print(a)"
   ]
  },
  {
   "cell_type": "code",
   "execution_count": 5,
   "id": "89823c6a",
   "metadata": {},
   "outputs": [],
   "source": [
    "b = 56"
   ]
  },
  {
   "cell_type": "code",
   "execution_count": 6,
   "id": "2eeec2a9",
   "metadata": {},
   "outputs": [
    {
     "data": {
      "text/plain": [
       "59"
      ]
     },
     "execution_count": 6,
     "metadata": {},
     "output_type": "execute_result"
    }
   ],
   "source": [
    "a + b"
   ]
  },
  {
   "cell_type": "code",
   "execution_count": 1,
   "id": "ffc26c6e",
   "metadata": {},
   "outputs": [
    {
     "ename": "ZeroDivisionError",
     "evalue": "division by zero",
     "output_type": "error",
     "traceback": [
      "\u001b[1;31m---------------------------------------------------------------------------\u001b[0m",
      "\u001b[1;31mZeroDivisionError\u001b[0m                         Traceback (most recent call last)",
      "Cell \u001b[1;32mIn[1], line 1\u001b[0m\n\u001b[1;32m----> 1\u001b[0m \u001b[38;5;28;43;01mTrue\u001b[39;49;00m\u001b[38;5;241;43m/\u001b[39;49m\u001b[38;5;28;43;01mFalse\u001b[39;49;00m\n",
      "\u001b[1;31mZeroDivisionError\u001b[0m: division by zero"
     ]
    }
   ],
   "source": [
    "True/False"
   ]
  },
  {
   "cell_type": "code",
   "execution_count": 2,
   "id": "8b8e0004",
   "metadata": {},
   "outputs": [],
   "source": [
    "# True/False is undefined or infinity "
   ]
  },
  {
   "cell_type": "code",
   "execution_count": 3,
   "id": "b2f99aae",
   "metadata": {},
   "outputs": [],
   "source": [
    "# Complex number a+bj here we use j instead of i "
   ]
  },
  {
   "cell_type": "code",
   "execution_count": 5,
   "id": "4be40fff",
   "metadata": {},
   "outputs": [],
   "source": [
    "a = 4+7j"
   ]
  },
  {
   "cell_type": "code",
   "execution_count": 7,
   "id": "750d45d0",
   "metadata": {},
   "outputs": [
    {
     "data": {
      "text/plain": [
       "complex"
      ]
     },
     "execution_count": 7,
     "metadata": {},
     "output_type": "execute_result"
    }
   ],
   "source": [
    "type(a)"
   ]
  },
  {
   "cell_type": "code",
   "execution_count": 8,
   "id": "2f889ae0",
   "metadata": {},
   "outputs": [
    {
     "data": {
      "text/plain": [
       "4.0"
      ]
     },
     "execution_count": 8,
     "metadata": {},
     "output_type": "execute_result"
    }
   ],
   "source": [
    "a.real"
   ]
  },
  {
   "cell_type": "code",
   "execution_count": 9,
   "id": "0aaffefa",
   "metadata": {},
   "outputs": [
    {
     "data": {
      "text/plain": [
       "7.0"
      ]
     },
     "execution_count": 9,
     "metadata": {},
     "output_type": "execute_result"
    }
   ],
   "source": [
    "a.imag"
   ]
  },
  {
   "cell_type": "code",
   "execution_count": 14,
   "id": "16871efa",
   "metadata": {},
   "outputs": [],
   "source": [
    "# 'String Slicing' in Python\n",
    "s =\"pwskills\""
   ]
  },
  {
   "cell_type": "code",
   "execution_count": 15,
   "id": "b636c908",
   "metadata": {},
   "outputs": [
    {
     "data": {
      "text/plain": [
       "'p'"
      ]
     },
     "execution_count": 15,
     "metadata": {},
     "output_type": "execute_result"
    }
   ],
   "source": [
    "s[0]"
   ]
  },
  {
   "cell_type": "code",
   "execution_count": 16,
   "id": "e8f9d19c",
   "metadata": {},
   "outputs": [
    {
     "data": {
      "text/plain": [
       "'pwskills'"
      ]
     },
     "execution_count": 16,
     "metadata": {},
     "output_type": "execute_result"
    }
   ],
   "source": [
    "s[0:8]"
   ]
  },
  {
   "cell_type": "code",
   "execution_count": 17,
   "id": "203edec6",
   "metadata": {},
   "outputs": [
    {
     "data": {
      "text/plain": [
       "'s'"
      ]
     },
     "execution_count": 17,
     "metadata": {},
     "output_type": "execute_result"
    }
   ],
   "source": [
    "s[-1]"
   ]
  },
  {
   "cell_type": "code",
   "execution_count": 18,
   "id": "201d8f54",
   "metadata": {},
   "outputs": [
    {
     "data": {
      "text/plain": [
       "'k'"
      ]
     },
     "execution_count": 18,
     "metadata": {},
     "output_type": "execute_result"
    }
   ],
   "source": [
    "s[3]"
   ]
  },
  {
   "cell_type": "code",
   "execution_count": 19,
   "id": "0dfd1a91",
   "metadata": {},
   "outputs": [
    {
     "data": {
      "text/plain": [
       "'pwskill'"
      ]
     },
     "execution_count": 19,
     "metadata": {},
     "output_type": "execute_result"
    }
   ],
   "source": [
    "s[0:7]"
   ]
  },
  {
   "cell_type": "code",
   "execution_count": 20,
   "id": "7c98111a",
   "metadata": {},
   "outputs": [
    {
     "data": {
      "text/plain": [
       "'pwskill'"
      ]
     },
     "execution_count": 20,
     "metadata": {},
     "output_type": "execute_result"
    }
   ],
   "source": [
    "s[0:-1]"
   ]
  },
  {
   "cell_type": "code",
   "execution_count": 21,
   "id": "35eeb06a",
   "metadata": {},
   "outputs": [
    {
     "data": {
      "text/plain": [
       "'p'"
      ]
     },
     "execution_count": 21,
     "metadata": {},
     "output_type": "execute_result"
    }
   ],
   "source": [
    "s[-8]"
   ]
  },
  {
   "cell_type": "code",
   "execution_count": 22,
   "id": "9d23e0a5",
   "metadata": {},
   "outputs": [
    {
     "data": {
      "text/plain": [
       "'pwskill'"
      ]
     },
     "execution_count": 22,
     "metadata": {},
     "output_type": "execute_result"
    }
   ],
   "source": [
    "s[-8:-1]"
   ]
  },
  {
   "cell_type": "code",
   "execution_count": 23,
   "id": "d0d54219",
   "metadata": {},
   "outputs": [
    {
     "data": {
      "text/plain": [
       "'pwskills'"
      ]
     },
     "execution_count": 23,
     "metadata": {},
     "output_type": "execute_result"
    }
   ],
   "source": [
    "s[0:]"
   ]
  },
  {
   "cell_type": "code",
   "execution_count": 25,
   "id": "993910a0",
   "metadata": {},
   "outputs": [
    {
     "data": {
      "text/plain": [
       "'pwskills'"
      ]
     },
     "execution_count": 25,
     "metadata": {},
     "output_type": "execute_result"
    }
   ],
   "source": [
    "s[:]"
   ]
  },
  {
   "cell_type": "code",
   "execution_count": 26,
   "id": "0648a198",
   "metadata": {},
   "outputs": [
    {
     "data": {
      "text/plain": [
       "'pwskills'"
      ]
     },
     "execution_count": 26,
     "metadata": {},
     "output_type": "execute_result"
    }
   ],
   "source": [
    "s[::]"
   ]
  },
  {
   "cell_type": "code",
   "execution_count": 28,
   "id": "4811cd5f",
   "metadata": {},
   "outputs": [
    {
     "data": {
      "text/plain": [
       "''"
      ]
     },
     "execution_count": 28,
     "metadata": {},
     "output_type": "execute_result"
    }
   ],
   "source": [
    "s[8:7]"
   ]
  },
  {
   "cell_type": "code",
   "execution_count": 30,
   "id": "6627262b",
   "metadata": {},
   "outputs": [
    {
     "data": {
      "text/plain": [
       "'pws'"
      ]
     },
     "execution_count": 30,
     "metadata": {},
     "output_type": "execute_result"
    }
   ],
   "source": [
    "s[0:3]"
   ]
  },
  {
   "cell_type": "code",
   "execution_count": 31,
   "id": "48b37dd6",
   "metadata": {},
   "outputs": [
    {
     "data": {
      "text/plain": [
       "'pwskills'"
      ]
     },
     "execution_count": 31,
     "metadata": {},
     "output_type": "execute_result"
    }
   ],
   "source": [
    "s[0:9]"
   ]
  },
  {
   "cell_type": "code",
   "execution_count": 32,
   "id": "02be664b",
   "metadata": {},
   "outputs": [
    {
     "data": {
      "text/plain": [
       "'pwskil'"
      ]
     },
     "execution_count": 32,
     "metadata": {},
     "output_type": "execute_result"
    }
   ],
   "source": [
    "s[-9:6]"
   ]
  },
  {
   "cell_type": "code",
   "execution_count": 33,
   "id": "ee5f36e6",
   "metadata": {},
   "outputs": [
    {
     "data": {
      "text/plain": [
       "'psil'"
      ]
     },
     "execution_count": 33,
     "metadata": {},
     "output_type": "execute_result"
    }
   ],
   "source": [
    "s[0:8:2]"
   ]
  },
  {
   "cell_type": "code",
   "execution_count": 34,
   "id": "9ec5821f",
   "metadata": {},
   "outputs": [
    {
     "data": {
      "text/plain": [
       "'psil'"
      ]
     },
     "execution_count": 34,
     "metadata": {},
     "output_type": "execute_result"
    }
   ],
   "source": [
    "s[::2]"
   ]
  },
  {
   "cell_type": "code",
   "execution_count": 39,
   "id": "a2c1adf8",
   "metadata": {},
   "outputs": [
    {
     "data": {
      "text/plain": [
       "'psil'"
      ]
     },
     "execution_count": 39,
     "metadata": {},
     "output_type": "execute_result"
    }
   ],
   "source": [
    "s[0::2]"
   ]
  },
  {
   "cell_type": "markdown",
   "id": "b7bcba68",
   "metadata": {},
   "source": [
    "## "
   ]
  },
  {
   "cell_type": "code",
   "execution_count": 41,
   "id": "15285f3d",
   "metadata": {},
   "outputs": [
    {
     "data": {
      "text/plain": [
       "'sllikswp'"
      ]
     },
     "execution_count": 41,
     "metadata": {},
     "output_type": "execute_result"
    }
   ],
   "source": [
    "s[::-1]"
   ]
  },
  {
   "cell_type": "code",
   "execution_count": 42,
   "id": "dc17798e",
   "metadata": {},
   "outputs": [
    {
     "data": {
      "text/plain": [
       "'skills'"
      ]
     },
     "execution_count": 42,
     "metadata": {},
     "output_type": "execute_result"
    }
   ],
   "source": [
    "s[2::1]"
   ]
  },
  {
   "cell_type": "code",
   "execution_count": 44,
   "id": "ebeab7e4",
   "metadata": {},
   "outputs": [
    {
     "data": {
      "text/plain": [
       "'sil'"
      ]
     },
     "execution_count": 44,
     "metadata": {},
     "output_type": "execute_result"
    }
   ],
   "source": [
    "s[2::2]"
   ]
  },
  {
   "cell_type": "code",
   "execution_count": 45,
   "id": "8198915d",
   "metadata": {},
   "outputs": [
    {
     "data": {
      "text/plain": [
       "''"
      ]
     },
     "execution_count": 45,
     "metadata": {},
     "output_type": "execute_result"
    }
   ],
   "source": [
    "s[2:7:-1]"
   ]
  },
  {
   "cell_type": "code",
   "execution_count": 46,
   "id": "a33ebc5e",
   "metadata": {},
   "outputs": [
    {
     "data": {
      "text/plain": [
       "''"
      ]
     },
     "execution_count": 46,
     "metadata": {},
     "output_type": "execute_result"
    }
   ],
   "source": [
    "s[1:0]"
   ]
  },
  {
   "cell_type": "code",
   "execution_count": 47,
   "id": "dcec3469",
   "metadata": {},
   "outputs": [
    {
     "data": {
      "text/plain": [
       "''"
      ]
     },
     "execution_count": 47,
     "metadata": {},
     "output_type": "execute_result"
    }
   ],
   "source": [
    "s[1:0:1]"
   ]
  },
  {
   "cell_type": "code",
   "execution_count": 49,
   "id": "614be81b",
   "metadata": {},
   "outputs": [
    {
     "data": {
      "text/plain": [
       "'w'"
      ]
     },
     "execution_count": 49,
     "metadata": {},
     "output_type": "execute_result"
    }
   ],
   "source": [
    "s[1:0:-1]"
   ]
  },
  {
   "cell_type": "code",
   "execution_count": 51,
   "id": "2e672a67",
   "metadata": {},
   "outputs": [
    {
     "data": {
      "text/plain": [
       "'slliksw'"
      ]
     },
     "execution_count": 51,
     "metadata": {},
     "output_type": "execute_result"
    }
   ],
   "source": [
    "# We will able to get the data only to that side whre we are supposed to jump\n",
    "# Ex:s[8:0:-1]\n",
    "s[8:0:-1]"
   ]
  },
  {
   "cell_type": "code",
   "execution_count": 52,
   "id": "0846a791",
   "metadata": {},
   "outputs": [
    {
     "data": {
      "text/plain": [
       "''"
      ]
     },
     "execution_count": 52,
     "metadata": {},
     "output_type": "execute_result"
    }
   ],
   "source": [
    "s[-2:-8:1]\n",
    "# Here we wont able to get the data because we are slicing the data from -2:-8 \n",
    "# And jumping to the positive side that is +1"
   ]
  },
  {
   "cell_type": "code",
   "execution_count": 53,
   "id": "8e07c179",
   "metadata": {},
   "outputs": [
    {
     "data": {
      "text/plain": [
       "'lliksw'"
      ]
     },
     "execution_count": 53,
     "metadata": {},
     "output_type": "execute_result"
    }
   ],
   "source": [
    "s[-2:-8:-1]\n",
    "# Data always be printed based on the formula upper bound - Lower bound [UB-LB]"
   ]
  },
  {
   "cell_type": "code",
   "execution_count": 54,
   "id": "00a9ecb9",
   "metadata": {},
   "outputs": [
    {
     "data": {
      "text/plain": [
       "'llikswp'"
      ]
     },
     "execution_count": 54,
     "metadata": {},
     "output_type": "execute_result"
    }
   ],
   "source": [
    "s[-2::-1]\n",
    "# If we not purposely mentioned the data upto which we are wanted to get the \n",
    "# the data,Then the system atomatically print the data upto to the last count"
   ]
  },
  {
   "cell_type": "code",
   "execution_count": 55,
   "id": "19ee33ed",
   "metadata": {},
   "outputs": [
    {
     "data": {
      "text/plain": [
       "'sllikswp'"
      ]
     },
     "execution_count": 55,
     "metadata": {},
     "output_type": "execute_result"
    }
   ],
   "source": [
    "s[::-1]"
   ]
  },
  {
   "cell_type": "code",
   "execution_count": 56,
   "id": "eeb8e389",
   "metadata": {},
   "outputs": [
    {
     "data": {
      "text/plain": [
       "'p'"
      ]
     },
     "execution_count": 56,
     "metadata": {},
     "output_type": "execute_result"
    }
   ],
   "source": [
    "s[-8::-1]"
   ]
  },
  {
   "cell_type": "code",
   "execution_count": 57,
   "id": "1eb7aca5",
   "metadata": {},
   "outputs": [
    {
     "data": {
      "text/plain": [
       "''"
      ]
     },
     "execution_count": 57,
     "metadata": {},
     "output_type": "execute_result"
    }
   ],
   "source": [
    "s[:-93:]"
   ]
  },
  {
   "cell_type": "code",
   "execution_count": 4,
   "id": "82ea3ec0",
   "metadata": {},
   "outputs": [],
   "source": [
    "s = \"pwskills\""
   ]
  },
  {
   "cell_type": "code",
   "execution_count": 5,
   "id": "d3b0f52f",
   "metadata": {},
   "outputs": [
    {
     "data": {
      "text/plain": [
       "'pwskills'"
      ]
     },
     "execution_count": 5,
     "metadata": {},
     "output_type": "execute_result"
    }
   ],
   "source": [
    "s[::1]"
   ]
  },
  {
   "cell_type": "code",
   "execution_count": 6,
   "id": "31878a64",
   "metadata": {},
   "outputs": [
    {
     "data": {
      "text/plain": [
       "'pwskills'"
      ]
     },
     "execution_count": 6,
     "metadata": {},
     "output_type": "execute_result"
    }
   ],
   "source": [
    "s[::]"
   ]
  },
  {
   "cell_type": "code",
   "execution_count": 5,
   "id": "ef81451e",
   "metadata": {},
   "outputs": [],
   "source": [
    "s1 = \"pwskills\""
   ]
  },
  {
   "cell_type": "code",
   "execution_count": 6,
   "id": "ff56d056",
   "metadata": {},
   "outputs": [
    {
     "data": {
      "text/plain": [
       "'p'"
      ]
     },
     "execution_count": 6,
     "metadata": {},
     "output_type": "execute_result"
    }
   ],
   "source": [
    "s1[-8::-1]"
   ]
  },
  {
   "cell_type": "code",
   "execution_count": 9,
   "id": "d0290d32",
   "metadata": {},
   "outputs": [
    {
     "data": {
      "text/plain": [
       "'pwskill'"
      ]
     },
     "execution_count": 9,
     "metadata": {},
     "output_type": "execute_result"
    }
   ],
   "source": [
    "s1[-8:-1]"
   ]
  },
  {
   "cell_type": "code",
   "execution_count": 11,
   "id": "36fa0a0e",
   "metadata": {},
   "outputs": [
    {
     "data": {
      "text/plain": [
       "'pwskills'"
      ]
     },
     "execution_count": 11,
     "metadata": {},
     "output_type": "execute_result"
    }
   ],
   "source": [
    "s1[-8:]"
   ]
  },
  {
   "cell_type": "code",
   "execution_count": 16,
   "id": "acf07afc",
   "metadata": {},
   "outputs": [
    {
     "data": {
      "text/plain": [
       "'SLLIKSWP'"
      ]
     },
     "execution_count": 16,
     "metadata": {},
     "output_type": "execute_result"
    }
   ],
   "source": [
    "s1[::-1].upper()"
   ]
  },
  {
   "cell_type": "code",
   "execution_count": 7,
   "id": "321b215d",
   "metadata": {},
   "outputs": [
    {
     "data": {
      "text/plain": [
       "'s'"
      ]
     },
     "execution_count": 7,
     "metadata": {},
     "output_type": "execute_result"
    }
   ],
   "source": [
    "s1[-1]"
   ]
  },
  {
   "cell_type": "code",
   "execution_count": 7,
   "id": "70438cda",
   "metadata": {},
   "outputs": [
    {
     "data": {
      "text/plain": [
       "''"
      ]
     },
     "execution_count": 7,
     "metadata": {},
     "output_type": "execute_result"
    }
   ],
   "source": [
    "s[:-90:]"
   ]
  },
  {
   "cell_type": "code",
   "execution_count": 8,
   "id": "5d0ebbdf",
   "metadata": {},
   "outputs": [],
   "source": [
    "c = \"200\"\n",
    "# In case of the string we can give the indexing not in case of integer"
   ]
  },
  {
   "cell_type": "code",
   "execution_count": 9,
   "id": "84040d1b",
   "metadata": {},
   "outputs": [
    {
     "data": {
      "text/plain": [
       "'0'"
      ]
     },
     "execution_count": 9,
     "metadata": {},
     "output_type": "execute_result"
    }
   ],
   "source": [
    "c[1]"
   ]
  },
  {
   "cell_type": "code",
   "execution_count": 10,
   "id": "201ef865",
   "metadata": {},
   "outputs": [
    {
     "data": {
      "text/plain": [
       "'2'"
      ]
     },
     "execution_count": 10,
     "metadata": {},
     "output_type": "execute_result"
    }
   ],
   "source": [
    "c[0]"
   ]
  },
  {
   "cell_type": "code",
   "execution_count": 13,
   "id": "2eb68ab2",
   "metadata": {},
   "outputs": [],
   "source": [
    "c = \"748444\""
   ]
  },
  {
   "cell_type": "code",
   "execution_count": 15,
   "id": "3ff3e106",
   "metadata": {},
   "outputs": [
    {
     "data": {
      "text/plain": [
       "'4'"
      ]
     },
     "execution_count": 15,
     "metadata": {},
     "output_type": "execute_result"
    }
   ],
   "source": [
    "c[3]"
   ]
  },
  {
   "cell_type": "code",
   "execution_count": 16,
   "id": "cdf0f8cc",
   "metadata": {},
   "outputs": [],
   "source": [
    "s = \"Brief History of Time \""
   ]
  },
  {
   "cell_type": "code",
   "execution_count": 20,
   "id": "85993edc",
   "metadata": {},
   "outputs": [
    {
     "data": {
      "text/plain": [
       "22"
      ]
     },
     "execution_count": 20,
     "metadata": {},
     "output_type": "execute_result"
    }
   ],
   "source": [
    "len(s)"
   ]
  },
  {
   "cell_type": "code",
   "execution_count": 21,
   "id": "4a718673",
   "metadata": {},
   "outputs": [
    {
     "data": {
      "text/plain": [
       "8"
      ]
     },
     "execution_count": 21,
     "metadata": {},
     "output_type": "execute_result"
    }
   ],
   "source": [
    "s.find('s')"
   ]
  },
  {
   "cell_type": "code",
   "execution_count": 22,
   "id": "8b89e409",
   "metadata": {},
   "outputs": [
    {
     "data": {
      "text/plain": [
       "2"
      ]
     },
     "execution_count": 22,
     "metadata": {},
     "output_type": "execute_result"
    }
   ],
   "source": [
    "s.find('i')"
   ]
  },
  {
   "cell_type": "code",
   "execution_count": 23,
   "id": "f07ca25e",
   "metadata": {},
   "outputs": [
    {
     "data": {
      "text/plain": [
       "2"
      ]
     },
     "execution_count": 23,
     "metadata": {},
     "output_type": "execute_result"
    }
   ],
   "source": [
    "s.count(\"e\")"
   ]
  },
  {
   "cell_type": "code",
   "execution_count": 25,
   "id": "17d54bd1",
   "metadata": {},
   "outputs": [
    {
     "data": {
      "text/plain": [
       "'Brief history of time '"
      ]
     },
     "execution_count": 25,
     "metadata": {},
     "output_type": "execute_result"
    }
   ],
   "source": [
    "s.capitalize()"
   ]
  },
  {
   "cell_type": "code",
   "execution_count": 26,
   "id": "623de21f",
   "metadata": {},
   "outputs": [
    {
     "data": {
      "text/plain": [
       "'bRIEF hISTORY OF tIME '"
      ]
     },
     "execution_count": 26,
     "metadata": {},
     "output_type": "execute_result"
    }
   ],
   "source": [
    "s.swapcase()"
   ]
  },
  {
   "cell_type": "code",
   "execution_count": 27,
   "id": "8bb3d22c",
   "metadata": {},
   "outputs": [
    {
     "data": {
      "text/plain": [
       "7"
      ]
     },
     "execution_count": 27,
     "metadata": {},
     "output_type": "execute_result"
    }
   ],
   "source": [
    "s.find(\"is\")"
   ]
  },
  {
   "cell_type": "code",
   "execution_count": 28,
   "id": "97b4b937",
   "metadata": {},
   "outputs": [
    {
     "data": {
      "text/plain": [
       "b'Brief History of Time '"
      ]
     },
     "execution_count": 28,
     "metadata": {},
     "output_type": "execute_result"
    }
   ],
   "source": [
    "s.encode()"
   ]
  },
  {
   "cell_type": "code",
   "execution_count": 2,
   "id": "e4cb6f66",
   "metadata": {},
   "outputs": [],
   "source": [
    "s1 = \"The World As I See It\""
   ]
  },
  {
   "cell_type": "code",
   "execution_count": 3,
   "id": "c8e405eb",
   "metadata": {},
   "outputs": [
    {
     "data": {
      "text/plain": [
       "'The World As I See It'"
      ]
     },
     "execution_count": 3,
     "metadata": {},
     "output_type": "execute_result"
    }
   ],
   "source": [
    "s1.expandtabs()"
   ]
  },
  {
   "cell_type": "code",
   "execution_count": 4,
   "id": "a52d93b7",
   "metadata": {},
   "outputs": [
    {
     "data": {
      "text/plain": [
       "'the world as i see it'"
      ]
     },
     "execution_count": 4,
     "metadata": {},
     "output_type": "execute_result"
    }
   ],
   "source": [
    "s1.casefold()"
   ]
  },
  {
   "cell_type": "code",
   "execution_count": 12,
   "id": "319bd586",
   "metadata": {},
   "outputs": [
    {
     "data": {
      "text/plain": [
       "'The World As I See It'"
      ]
     },
     "execution_count": 12,
     "metadata": {},
     "output_type": "execute_result"
    }
   ],
   "source": [
    "s1.center(5)"
   ]
  },
  {
   "cell_type": "code",
   "execution_count": 18,
   "id": "4d173ede",
   "metadata": {},
   "outputs": [
    {
     "data": {
      "text/plain": [
       "False"
      ]
     },
     "execution_count": 18,
     "metadata": {},
     "output_type": "execute_result"
    }
   ],
   "source": [
    "s1.endswith(\"See\")"
   ]
  },
  {
   "cell_type": "code",
   "execution_count": 19,
   "id": "98a20f4b",
   "metadata": {},
   "outputs": [
    {
     "data": {
      "text/plain": [
       "True"
      ]
     },
     "execution_count": 19,
     "metadata": {},
     "output_type": "execute_result"
    }
   ],
   "source": [
    "s1.endswith(\"It\")"
   ]
  },
  {
   "cell_type": "code",
   "execution_count": 20,
   "id": "ad2970fa",
   "metadata": {},
   "outputs": [
    {
     "data": {
      "text/plain": [
       "'The World As I See It'"
      ]
     },
     "execution_count": 20,
     "metadata": {},
     "output_type": "execute_result"
    }
   ],
   "source": [
    "s1.expandtabs()"
   ]
  },
  {
   "cell_type": "code",
   "execution_count": 22,
   "id": "e5930f3e",
   "metadata": {},
   "outputs": [
    {
     "data": {
      "text/plain": [
       "4"
      ]
     },
     "execution_count": 22,
     "metadata": {},
     "output_type": "execute_result"
    }
   ],
   "source": [
    "s1.find(\"World\")"
   ]
  },
  {
   "cell_type": "code",
   "execution_count": 25,
   "id": "47f04210",
   "metadata": {},
   "outputs": [
    {
     "data": {
      "text/plain": [
       "'The World As I See It'"
      ]
     },
     "execution_count": 25,
     "metadata": {},
     "output_type": "execute_result"
    }
   ],
   "source": [
    "s1.format()"
   ]
  },
  {
   "cell_type": "code",
   "execution_count": 28,
   "id": "993e99e9",
   "metadata": {},
   "outputs": [
    {
     "data": {
      "text/plain": [
       "'The World As I See It'"
      ]
     },
     "execution_count": 28,
     "metadata": {},
     "output_type": "execute_result"
    }
   ],
   "source": [
    "s1.format_map(2)"
   ]
  },
  {
   "cell_type": "code",
   "execution_count": 30,
   "id": "8c08f97c",
   "metadata": {},
   "outputs": [
    {
     "data": {
      "text/plain": [
       "15"
      ]
     },
     "execution_count": 30,
     "metadata": {},
     "output_type": "execute_result"
    }
   ],
   "source": [
    "s1.index(\"See\")"
   ]
  },
  {
   "cell_type": "markdown",
   "id": "748569ed",
   "metadata": {},
   "source": []
  },
  {
   "cell_type": "code",
   "execution_count": 31,
   "id": "1502cfd7",
   "metadata": {},
   "outputs": [
    {
     "data": {
      "text/plain": [
       "False"
      ]
     },
     "execution_count": 31,
     "metadata": {},
     "output_type": "execute_result"
    }
   ],
   "source": [
    "s1.isalnum()"
   ]
  },
  {
   "cell_type": "code",
   "execution_count": 32,
   "id": "6a5fe2cc",
   "metadata": {},
   "outputs": [
    {
     "data": {
      "text/plain": [
       "False"
      ]
     },
     "execution_count": 32,
     "metadata": {},
     "output_type": "execute_result"
    }
   ],
   "source": [
    "s1.isalpha()"
   ]
  },
  {
   "cell_type": "code",
   "execution_count": 33,
   "id": "6812444a",
   "metadata": {},
   "outputs": [
    {
     "data": {
      "text/plain": [
       "True"
      ]
     },
     "execution_count": 33,
     "metadata": {},
     "output_type": "execute_result"
    }
   ],
   "source": [
    "s1.isascii()"
   ]
  },
  {
   "cell_type": "code",
   "execution_count": 34,
   "id": "44be00a6",
   "metadata": {},
   "outputs": [
    {
     "data": {
      "text/plain": [
       "False"
      ]
     },
     "execution_count": 34,
     "metadata": {},
     "output_type": "execute_result"
    }
   ],
   "source": [
    "s1.isdecimal()"
   ]
  },
  {
   "cell_type": "code",
   "execution_count": 35,
   "id": "168d3ab4",
   "metadata": {},
   "outputs": [
    {
     "data": {
      "text/plain": [
       "False"
      ]
     },
     "execution_count": 35,
     "metadata": {},
     "output_type": "execute_result"
    }
   ],
   "source": [
    "s1.isdigit()"
   ]
  },
  {
   "cell_type": "code",
   "execution_count": 36,
   "id": "d6753e9a",
   "metadata": {},
   "outputs": [
    {
     "data": {
      "text/plain": [
       "False"
      ]
     },
     "execution_count": 36,
     "metadata": {},
     "output_type": "execute_result"
    }
   ],
   "source": [
    "s1.isidentifier()"
   ]
  },
  {
   "cell_type": "code",
   "execution_count": 37,
   "id": "8dc60f57",
   "metadata": {},
   "outputs": [
    {
     "data": {
      "text/plain": [
       "False"
      ]
     },
     "execution_count": 37,
     "metadata": {},
     "output_type": "execute_result"
    }
   ],
   "source": [
    "s1.islower()"
   ]
  },
  {
   "cell_type": "code",
   "execution_count": 38,
   "id": "33845122",
   "metadata": {},
   "outputs": [
    {
     "data": {
      "text/plain": [
       "True"
      ]
     },
     "execution_count": 38,
     "metadata": {},
     "output_type": "execute_result"
    }
   ],
   "source": [
    "s1.isprintable()"
   ]
  },
  {
   "cell_type": "code",
   "execution_count": 39,
   "id": "f1a0f572",
   "metadata": {},
   "outputs": [
    {
     "data": {
      "text/plain": [
       "False"
      ]
     },
     "execution_count": 39,
     "metadata": {},
     "output_type": "execute_result"
    }
   ],
   "source": [
    "s1.isspace()"
   ]
  },
  {
   "cell_type": "code",
   "execution_count": 40,
   "id": "3d60dfb0",
   "metadata": {},
   "outputs": [
    {
     "data": {
      "text/plain": [
       "True"
      ]
     },
     "execution_count": 40,
     "metadata": {},
     "output_type": "execute_result"
    }
   ],
   "source": [
    "s1.istitle()"
   ]
  },
  {
   "cell_type": "code",
   "execution_count": 41,
   "id": "acd57416",
   "metadata": {},
   "outputs": [
    {
     "data": {
      "text/plain": [
       "False"
      ]
     },
     "execution_count": 41,
     "metadata": {},
     "output_type": "execute_result"
    }
   ],
   "source": [
    "s1.isupper()"
   ]
  },
  {
   "cell_type": "code",
   "execution_count": 46,
   "id": "89f695c4",
   "metadata": {},
   "outputs": [
    {
     "data": {
      "text/plain": [
       "'jThe World As I See ItoThe World As I See ItiThe World As I See Itn'"
      ]
     },
     "execution_count": 46,
     "metadata": {},
     "output_type": "execute_result"
    }
   ],
   "source": [
    "s1.join(\"join\")"
   ]
  },
  {
   "cell_type": "code",
   "execution_count": 51,
   "id": "0b4958ba",
   "metadata": {},
   "outputs": [
    {
     "data": {
      "text/plain": [
       "'The World As I See It'"
      ]
     },
     "execution_count": 51,
     "metadata": {},
     "output_type": "execute_result"
    }
   ],
   "source": [
    "s1.ljust(6)"
   ]
  },
  {
   "cell_type": "code",
   "execution_count": 52,
   "id": "336e753c",
   "metadata": {},
   "outputs": [
    {
     "data": {
      "text/plain": [
       "'the world as i see it'"
      ]
     },
     "execution_count": 52,
     "metadata": {},
     "output_type": "execute_result"
    }
   ],
   "source": [
    "s1.lower()"
   ]
  },
  {
   "cell_type": "code",
   "execution_count": 53,
   "id": "ca0da405",
   "metadata": {},
   "outputs": [
    {
     "data": {
      "text/plain": [
       "'The World As I See It'"
      ]
     },
     "execution_count": 53,
     "metadata": {},
     "output_type": "execute_result"
    }
   ],
   "source": [
    "s1.lstrip()"
   ]
  },
  {
   "cell_type": "code",
   "execution_count": 62,
   "id": "ed3e618e",
   "metadata": {},
   "outputs": [],
   "source": [
    "world = \"Im Living Here\""
   ]
  },
  {
   "cell_type": "code",
   "execution_count": 63,
   "id": "f4c5cfbe",
   "metadata": {},
   "outputs": [
    {
     "ename": "TypeError",
     "evalue": "if you give only one argument to maketrans it must be a dict",
     "output_type": "error",
     "traceback": [
      "\u001b[1;31m---------------------------------------------------------------------------\u001b[0m",
      "\u001b[1;31mTypeError\u001b[0m                                 Traceback (most recent call last)",
      "Cell \u001b[1;32mIn[63], line 1\u001b[0m\n\u001b[1;32m----> 1\u001b[0m \u001b[43ms1\u001b[49m\u001b[38;5;241;43m.\u001b[39;49m\u001b[43mmaketrans\u001b[49m\u001b[43m(\u001b[49m\u001b[43m{\u001b[49m\u001b[43mworld\u001b[49m\u001b[43m}\u001b[49m\u001b[43m)\u001b[49m\n",
      "\u001b[1;31mTypeError\u001b[0m: if you give only one argument to maketrans it must be a dict"
     ]
    }
   ],
   "source": [
    "s1.maketrans({world})"
   ]
  },
  {
   "cell_type": "code",
   "execution_count": 66,
   "id": "e6a52cb5",
   "metadata": {},
   "outputs": [
    {
     "data": {
      "text/plain": [
       "('', 'The World As I See It', '')"
      ]
     },
     "execution_count": 66,
     "metadata": {},
     "output_type": "execute_result"
    }
   ],
   "source": [
    "s1.partition(s1)"
   ]
  },
  {
   "cell_type": "code",
   "execution_count": 69,
   "id": "d2e9f588",
   "metadata": {},
   "outputs": [
    {
     "data": {
      "text/plain": [
       "''"
      ]
     },
     "execution_count": 69,
     "metadata": {},
     "output_type": "execute_result"
    }
   ],
   "source": [
    "s1.removeprefix(s1)"
   ]
  },
  {
   "cell_type": "code",
   "execution_count": 70,
   "id": "3f47babd",
   "metadata": {},
   "outputs": [
    {
     "data": {
      "text/plain": [
       "''"
      ]
     },
     "execution_count": 70,
     "metadata": {},
     "output_type": "execute_result"
    }
   ],
   "source": [
    "s1.removesuffix(s1)"
   ]
  },
  {
   "cell_type": "code",
   "execution_count": 76,
   "id": "b756f7a5",
   "metadata": {},
   "outputs": [],
   "source": [
    "p = \"Python is very simple programming language to learn\""
   ]
  },
  {
   "cell_type": "code",
   "execution_count": 77,
   "id": "a017994e",
   "metadata": {},
   "outputs": [
    {
     "data": {
      "text/plain": [
       "'Python is very simple programming language to learn'"
      ]
     },
     "execution_count": 77,
     "metadata": {},
     "output_type": "execute_result"
    }
   ],
   "source": [
    "s1.replace(s1,p)"
   ]
  },
  {
   "cell_type": "code",
   "execution_count": 78,
   "id": "38b471d0",
   "metadata": {},
   "outputs": [
    {
     "data": {
      "text/plain": [
       "['The', 'World', 'As', 'I', 'See', 'It']"
      ]
     },
     "execution_count": 78,
     "metadata": {},
     "output_type": "execute_result"
    }
   ],
   "source": [
    "s1.rsplit()"
   ]
  },
  {
   "cell_type": "code",
   "execution_count": 84,
   "id": "cf771272",
   "metadata": {},
   "outputs": [
    {
     "data": {
      "text/plain": [
       "0"
      ]
     },
     "execution_count": 84,
     "metadata": {},
     "output_type": "execute_result"
    }
   ],
   "source": [
    "# Code to find a character of a sub string in a string \n",
    "p.rfind(p)"
   ]
  },
  {
   "cell_type": "code",
   "execution_count": 85,
   "id": "3be72a57",
   "metadata": {},
   "outputs": [
    {
     "data": {
      "text/plain": [
       "['The World As I See It']"
      ]
     },
     "execution_count": 85,
     "metadata": {},
     "output_type": "execute_result"
    }
   ],
   "source": [
    "s1.splitlines()"
   ]
  },
  {
   "cell_type": "code",
   "execution_count": 89,
   "id": "e56b2b20",
   "metadata": {},
   "outputs": [
    {
     "data": {
      "text/plain": [
       "0"
      ]
     },
     "execution_count": 89,
     "metadata": {},
     "output_type": "execute_result"
    }
   ],
   "source": [
    "s1.rindex(s1)"
   ]
  },
  {
   "cell_type": "code",
   "execution_count": 92,
   "id": "5cb047f3",
   "metadata": {},
   "outputs": [],
   "source": [
    "# It is only possible to concatinaate string with the string \n",
    "# If we want to do so we need to first convert integer into the string \n",
    "\n",
    "Ex = \"I can concatinate this string to the integer forward me ie.,\""
   ]
  },
  {
   "cell_type": "code",
   "execution_count": 93,
   "id": "8fee7f4c",
   "metadata": {},
   "outputs": [
    {
     "data": {
      "text/plain": [
       "'I can concatinate this string to the integer forward me ie.,4'"
      ]
     },
     "execution_count": 93,
     "metadata": {},
     "output_type": "execute_result"
    }
   ],
   "source": [
    "Ex + str(4)"
   ]
  },
  {
   "cell_type": "code",
   "execution_count": 94,
   "id": "9cfc0b10",
   "metadata": {},
   "outputs": [
    {
     "data": {
      "text/plain": [
       "'I can concatinate this string to the integer forward me ie.,I can concatinate this string to the integer forward me ie.,'"
      ]
     },
     "execution_count": 94,
     "metadata": {},
     "output_type": "execute_result"
    }
   ],
   "source": [
    "# We can able to multiply string to the integer\n",
    "Ex * 2"
   ]
  },
  {
   "cell_type": "code",
   "execution_count": 8,
   "id": "2f67a6fb",
   "metadata": {},
   "outputs": [],
   "source": [
    "s1 = \"Learning Python\""
   ]
  },
  {
   "cell_type": "code",
   "execution_count": 9,
   "id": "29026708",
   "metadata": {},
   "outputs": [
    {
     "data": {
      "text/plain": [
       "'Shreyas Learning Python'"
      ]
     },
     "execution_count": 9,
     "metadata": {},
     "output_type": "execute_result"
    }
   ],
   "source": [
    "\"Shreyas\" + \" \" + s1"
   ]
  },
  {
   "cell_type": "code",
   "execution_count": 11,
   "id": "9664366d",
   "metadata": {
    "scrolled": true
   },
   "outputs": [
    {
     "ename": "TypeError",
     "evalue": "unsupported operand type(s) for /: 'str' and 'str'",
     "output_type": "error",
     "traceback": [
      "\u001b[1;31m---------------------------------------------------------------------------\u001b[0m",
      "\u001b[1;31mTypeError\u001b[0m                                 Traceback (most recent call last)",
      "Cell \u001b[1;32mIn[11], line 1\u001b[0m\n\u001b[1;32m----> 1\u001b[0m \u001b[38;5;124;43m\"\u001b[39;49m\u001b[38;5;124;43mShreyas\u001b[39;49m\u001b[38;5;124;43m\"\u001b[39;49m\u001b[43m \u001b[49m\u001b[38;5;241;43m/\u001b[39;49m\u001b[43m \u001b[49m\u001b[38;5;28;43mstr\u001b[39;49m\u001b[43m(\u001b[49m\u001b[38;5;241;43m2\u001b[39;49m\u001b[43m)\u001b[49m\n",
      "\u001b[1;31mTypeError\u001b[0m: unsupported operand type(s) for /: 'str' and 'str'"
     ]
    }
   ],
   "source": [
    "\"Shreyas\" / str(2) "
   ]
  },
  {
   "cell_type": "code",
   "execution_count": 14,
   "id": "bcb2acf7",
   "metadata": {},
   "outputs": [
    {
     "data": {
      "text/plain": [
       "\"Don't do copy and paste \""
      ]
     },
     "execution_count": 14,
     "metadata": {},
     "output_type": "execute_result"
    }
   ],
   "source": [
    "\"Don't do copy and paste \" "
   ]
  },
  {
   "cell_type": "code",
   "execution_count": 21,
   "id": "b904c226",
   "metadata": {},
   "outputs": [],
   "source": [
    "s2 = \"\"\" This is called as the multiline comment! \n",
    "this is basically used to commenting a various lines \"\"\""
   ]
  },
  {
   "cell_type": "code",
   "execution_count": 22,
   "id": "fe312715",
   "metadata": {},
   "outputs": [
    {
     "data": {
      "text/plain": [
       "' This is called as the multiline comment! \\nthis is basically used to commenting a various lines '"
      ]
     },
     "execution_count": 22,
     "metadata": {},
     "output_type": "execute_result"
    }
   ],
   "source": [
    "s2"
   ]
  },
  {
   "cell_type": "code",
   "execution_count": 23,
   "id": "fbde7b5c",
   "metadata": {},
   "outputs": [
    {
     "name": "stdout",
     "output_type": "stream",
     "text": [
      " This is called as the multiline comment! \n",
      "this is basically used to commenting a various lines \n"
     ]
    }
   ],
   "source": [
    "print(s2)\n",
    "# Here,\"back slash n\" (/n) shows the new line character"
   ]
  },
  {
   "cell_type": "code",
   "execution_count": 1,
   "id": "2a25576d",
   "metadata": {},
   "outputs": [],
   "source": [
    "c = 5+8j"
   ]
  },
  {
   "cell_type": "code",
   "execution_count": 5,
   "id": "98200166",
   "metadata": {},
   "outputs": [
    {
     "data": {
      "text/plain": [
       "complex"
      ]
     },
     "execution_count": 5,
     "metadata": {},
     "output_type": "execute_result"
    }
   ],
   "source": [
    "type(c)"
   ]
  },
  {
   "cell_type": "code",
   "execution_count": 6,
   "id": "9fe4e785",
   "metadata": {},
   "outputs": [
    {
     "data": {
      "text/plain": [
       "8.0"
      ]
     },
     "execution_count": 6,
     "metadata": {},
     "output_type": "execute_result"
    }
   ],
   "source": [
    "c.imag"
   ]
  },
  {
   "cell_type": "code",
   "execution_count": 8,
   "id": "0d296c61",
   "metadata": {},
   "outputs": [
    {
     "data": {
      "text/plain": [
       "5.0"
      ]
     },
     "execution_count": 8,
     "metadata": {},
     "output_type": "execute_result"
    }
   ],
   "source": [
    "c.real"
   ]
  },
  {
   "cell_type": "code",
   "execution_count": 1,
   "id": "90d2224d",
   "metadata": {},
   "outputs": [],
   "source": [
    "# Premitive data types:Strings, boolean,String Slicing ,String inbuilt function \n",
    "# complex number \n",
    "# Lists,Tuples and Set in Python"
   ]
  },
  {
   "cell_type": "code",
   "execution_count": 2,
   "id": "41e65549",
   "metadata": {},
   "outputs": [],
   "source": [
    "# Lists are the type of data sets where we can store any type of data \n",
    "# Strings, boolean, Floating point nuber,complex number etc"
   ]
  },
  {
   "cell_type": "code",
   "execution_count": 3,
   "id": "04fec861",
   "metadata": {},
   "outputs": [],
   "source": [
    "l = [3,3.5,\"Shreyas\", True,5+7j]"
   ]
  },
  {
   "cell_type": "code",
   "execution_count": 4,
   "id": "50eb55cb",
   "metadata": {},
   "outputs": [
    {
     "data": {
      "text/plain": [
       "list"
      ]
     },
     "execution_count": 4,
     "metadata": {},
     "output_type": "execute_result"
    }
   ],
   "source": [
    "type(l)"
   ]
  },
  {
   "cell_type": "code",
   "execution_count": 5,
   "id": "1e210b36",
   "metadata": {},
   "outputs": [
    {
     "data": {
      "text/plain": [
       "3"
      ]
     },
     "execution_count": 5,
     "metadata": {},
     "output_type": "execute_result"
    }
   ],
   "source": [
    "l[0]"
   ]
  },
  {
   "cell_type": "code",
   "execution_count": 6,
   "id": "49fb8cf1",
   "metadata": {},
   "outputs": [
    {
     "data": {
      "text/plain": [
       "True"
      ]
     },
     "execution_count": 6,
     "metadata": {},
     "output_type": "execute_result"
    }
   ],
   "source": [
    "l[3]"
   ]
  },
  {
   "cell_type": "code",
   "execution_count": 8,
   "id": "6535436b",
   "metadata": {},
   "outputs": [
    {
     "data": {
      "text/plain": [
       "[3, 3.5, 'Shreyas']"
      ]
     },
     "execution_count": 8,
     "metadata": {},
     "output_type": "execute_result"
    }
   ],
   "source": [
    "l[:3]"
   ]
  },
  {
   "cell_type": "code",
   "execution_count": 9,
   "id": "4a011bee",
   "metadata": {},
   "outputs": [
    {
     "data": {
      "text/plain": [
       "[3, 3.5, 'Shreyas']"
      ]
     },
     "execution_count": 9,
     "metadata": {},
     "output_type": "execute_result"
    }
   ],
   "source": [
    "l[0:3]"
   ]
  },
  {
   "cell_type": "code",
   "execution_count": 10,
   "id": "9b2df923",
   "metadata": {},
   "outputs": [
    {
     "data": {
      "text/plain": [
       "(5+7j)"
      ]
     },
     "execution_count": 10,
     "metadata": {},
     "output_type": "execute_result"
    }
   ],
   "source": [
    "l[-1]"
   ]
  },
  {
   "cell_type": "code",
   "execution_count": 11,
   "id": "72b22b4e",
   "metadata": {},
   "outputs": [
    {
     "data": {
      "text/plain": [
       "[(5+7j), True, 'Shreyas', 3.5, 3]"
      ]
     },
     "execution_count": 11,
     "metadata": {},
     "output_type": "execute_result"
    }
   ],
   "source": [
    "l[::-1]"
   ]
  },
  {
   "cell_type": "code",
   "execution_count": 12,
   "id": "5d6b04f3",
   "metadata": {},
   "outputs": [
    {
     "data": {
      "text/plain": [
       "[3, 3.5, 'Shreyas', True, (5+7j)]"
      ]
     },
     "execution_count": 12,
     "metadata": {},
     "output_type": "execute_result"
    }
   ],
   "source": [
    "l[::]"
   ]
  },
  {
   "cell_type": "code",
   "execution_count": 13,
   "id": "51f5f1bc",
   "metadata": {},
   "outputs": [
    {
     "data": {
      "text/plain": [
       "[3, 'Shreyas', (5+7j)]"
      ]
     },
     "execution_count": 13,
     "metadata": {},
     "output_type": "execute_result"
    }
   ],
   "source": [
    "l[::2]"
   ]
  },
  {
   "cell_type": "code",
   "execution_count": 14,
   "id": "aec09cf7",
   "metadata": {},
   "outputs": [
    {
     "ename": "TypeError",
     "evalue": "can only concatenate list (not \"str\") to list",
     "output_type": "error",
     "traceback": [
      "\u001b[1;31m---------------------------------------------------------------------------\u001b[0m",
      "\u001b[1;31mTypeError\u001b[0m                                 Traceback (most recent call last)",
      "Cell \u001b[1;32mIn[14], line 3\u001b[0m\n\u001b[0;32m      1\u001b[0m \u001b[38;5;66;03m# We can only able to concatinate similer data types \u001b[39;00m\n\u001b[0;32m      2\u001b[0m s \u001b[38;5;241m=\u001b[39m \u001b[38;5;124m\"\u001b[39m\u001b[38;5;124mpwskills\u001b[39m\u001b[38;5;124m\"\u001b[39m\n\u001b[1;32m----> 3\u001b[0m \u001b[43ml\u001b[49m\u001b[38;5;241;43m+\u001b[39;49m\u001b[43ms\u001b[49m\n",
      "\u001b[1;31mTypeError\u001b[0m: can only concatenate list (not \"str\") to list"
     ]
    }
   ],
   "source": [
    "# We can only able to concatinate similer data types\n",
    "# We also have a list as a function in Python \n",
    "s = \"pwskills\"\n",
    "l+s"
   ]
  },
  {
   "cell_type": "code",
   "execution_count": 15,
   "id": "873663e6",
   "metadata": {},
   "outputs": [
    {
     "data": {
      "text/plain": [
       "['p', 'w', 's', 'k', 'i', 'l', 'l', 's']"
      ]
     },
     "execution_count": 15,
     "metadata": {},
     "output_type": "execute_result"
    }
   ],
   "source": [
    "list(s)"
   ]
  },
  {
   "cell_type": "code",
   "execution_count": 16,
   "id": "012d2a28",
   "metadata": {},
   "outputs": [
    {
     "data": {
      "text/plain": [
       "['p', 'w', 's', 'k', 'i', 'l', 'l', 's', 3, 3.5, 'Shreyas', True, (5+7j)]"
      ]
     },
     "execution_count": 16,
     "metadata": {},
     "output_type": "execute_result"
    }
   ],
   "source": [
    "list(s) + l"
   ]
  },
  {
   "cell_type": "code",
   "execution_count": 17,
   "id": "029c6125",
   "metadata": {},
   "outputs": [
    {
     "data": {
      "text/plain": [
       "[3, 3.5, 'Shreyas', True, (5+7j)]"
      ]
     },
     "execution_count": 17,
     "metadata": {},
     "output_type": "execute_result"
    }
   ],
   "source": [
    "l"
   ]
  },
  {
   "cell_type": "code",
   "execution_count": 18,
   "id": "9f19a42f",
   "metadata": {},
   "outputs": [
    {
     "data": {
      "text/plain": [
       "'Shreyas'"
      ]
     },
     "execution_count": 18,
     "metadata": {},
     "output_type": "execute_result"
    }
   ],
   "source": [
    "l[2]"
   ]
  },
  {
   "cell_type": "code",
   "execution_count": 19,
   "id": "1d30704e",
   "metadata": {},
   "outputs": [
    {
     "data": {
      "text/plain": [
       "'Shr'"
      ]
     },
     "execution_count": 19,
     "metadata": {},
     "output_type": "execute_result"
    }
   ],
   "source": [
    "l[2][0:3]"
   ]
  },
  {
   "cell_type": "code",
   "execution_count": 20,
   "id": "8648a97f",
   "metadata": {},
   "outputs": [
    {
     "data": {
      "text/plain": [
       "True"
      ]
     },
     "execution_count": 20,
     "metadata": {},
     "output_type": "execute_result"
    }
   ],
   "source": [
    "l[3]"
   ]
  },
  {
   "cell_type": "code",
   "execution_count": 21,
   "id": "512b2466",
   "metadata": {},
   "outputs": [
    {
     "ename": "TypeError",
     "evalue": "'bool' object is not subscriptable",
     "output_type": "error",
     "traceback": [
      "\u001b[1;31m---------------------------------------------------------------------------\u001b[0m",
      "\u001b[1;31mTypeError\u001b[0m                                 Traceback (most recent call last)",
      "Cell \u001b[1;32mIn[21], line 1\u001b[0m\n\u001b[1;32m----> 1\u001b[0m \u001b[43ml\u001b[49m\u001b[43m[\u001b[49m\u001b[38;5;241;43m3\u001b[39;49m\u001b[43m]\u001b[49m\u001b[43m[\u001b[49m\u001b[38;5;241;43m0\u001b[39;49m\u001b[43m:\u001b[49m\u001b[38;5;241;43m3\u001b[39;49m\u001b[43m]\u001b[49m\n",
      "\u001b[1;31mTypeError\u001b[0m: 'bool' object is not subscriptable"
     ]
    }
   ],
   "source": [
    "l[3][0:]"
   ]
  },
  {
   "cell_type": "code",
   "execution_count": 22,
   "id": "20b24f0c",
   "metadata": {},
   "outputs": [
    {
     "data": {
      "text/plain": [
       "[3, 'Shreyas', (5+7j)]"
      ]
     },
     "execution_count": 22,
     "metadata": {},
     "output_type": "execute_result"
    }
   ],
   "source": [
    "l[::2]"
   ]
  },
  {
   "cell_type": "code",
   "execution_count": 23,
   "id": "39aaa385",
   "metadata": {},
   "outputs": [
    {
     "data": {
      "text/plain": [
       "'Tr'"
      ]
     },
     "execution_count": 23,
     "metadata": {},
     "output_type": "execute_result"
    }
   ],
   "source": [
    "str(l[3])[0:2]"
   ]
  },
  {
   "cell_type": "code",
   "execution_count": 24,
   "id": "238508ef",
   "metadata": {},
   "outputs": [],
   "source": [
    "l1 = [3,5,6] "
   ]
  },
  {
   "cell_type": "code",
   "execution_count": 25,
   "id": "ff644166",
   "metadata": {},
   "outputs": [
    {
     "data": {
      "text/plain": [
       "[3, 3.5, 'Shreyas', True, (5+7j), 3, 5, 6]"
      ]
     },
     "execution_count": 25,
     "metadata": {},
     "output_type": "execute_result"
    }
   ],
   "source": [
    "l + l1"
   ]
  },
  {
   "cell_type": "code",
   "execution_count": 26,
   "id": "e724a165",
   "metadata": {},
   "outputs": [
    {
     "data": {
      "text/plain": [
       "[3, 5, 6, 3, 5, 6, 3, 5, 6]"
      ]
     },
     "execution_count": 26,
     "metadata": {},
     "output_type": "execute_result"
    }
   ],
   "source": [
    "l1 * 3"
   ]
  },
  {
   "cell_type": "code",
   "execution_count": 28,
   "id": "d1fad3dd",
   "metadata": {},
   "outputs": [],
   "source": [
    "l.append (5)"
   ]
  },
  {
   "cell_type": "code",
   "execution_count": 29,
   "id": "16086553",
   "metadata": {},
   "outputs": [
    {
     "data": {
      "text/plain": [
       "[3, 3.5, 'Shreyas', True, (5+7j), 5]"
      ]
     },
     "execution_count": 29,
     "metadata": {},
     "output_type": "execute_result"
    }
   ],
   "source": [
    "l"
   ]
  },
  {
   "cell_type": "code",
   "execution_count": 30,
   "id": "96516d4f",
   "metadata": {},
   "outputs": [
    {
     "data": {
      "text/plain": [
       "6"
      ]
     },
     "execution_count": 30,
     "metadata": {},
     "output_type": "execute_result"
    }
   ],
   "source": [
    "len(l)"
   ]
  },
  {
   "cell_type": "code",
   "execution_count": 31,
   "id": "9a73494f",
   "metadata": {},
   "outputs": [],
   "source": [
    "l.append(s)"
   ]
  },
  {
   "cell_type": "code",
   "execution_count": 32,
   "id": "c17079a6",
   "metadata": {},
   "outputs": [
    {
     "data": {
      "text/plain": [
       "[3, 3.5, 'Shreyas', True, (5+7j), 5, 'pwskills']"
      ]
     },
     "execution_count": 32,
     "metadata": {},
     "output_type": "execute_result"
    }
   ],
   "source": [
    "l"
   ]
  },
  {
   "cell_type": "code",
   "execution_count": 33,
   "id": "023a3203",
   "metadata": {},
   "outputs": [],
   "source": [
    "# We can store list inside a list called a nested list\n",
    "l.append(l1)"
   ]
  },
  {
   "cell_type": "code",
   "execution_count": 34,
   "id": "73263fb9",
   "metadata": {},
   "outputs": [
    {
     "data": {
      "text/plain": [
       "[3, 3.5, 'Shreyas', True, (5+7j), 5, 'pwskills', [3, 5, 6]]"
      ]
     },
     "execution_count": 34,
     "metadata": {},
     "output_type": "execute_result"
    }
   ],
   "source": [
    "l"
   ]
  },
  {
   "cell_type": "code",
   "execution_count": 35,
   "id": "6e924f68",
   "metadata": {},
   "outputs": [
    {
     "data": {
      "text/plain": [
       "5"
      ]
     },
     "execution_count": 35,
     "metadata": {},
     "output_type": "execute_result"
    }
   ],
   "source": [
    "l[7][1]"
   ]
  },
  {
   "cell_type": "code",
   "execution_count": 36,
   "id": "c251f504",
   "metadata": {},
   "outputs": [
    {
     "ename": "TypeError",
     "evalue": "'int' object is not iterable",
     "output_type": "error",
     "traceback": [
      "\u001b[1;31m---------------------------------------------------------------------------\u001b[0m",
      "\u001b[1;31mTypeError\u001b[0m                                 Traceback (most recent call last)",
      "Cell \u001b[1;32mIn[36], line 1\u001b[0m\n\u001b[1;32m----> 1\u001b[0m \u001b[43ml\u001b[49m\u001b[38;5;241;43m.\u001b[39;49m\u001b[43mextend\u001b[49m\u001b[43m(\u001b[49m\u001b[38;5;241;43m5\u001b[39;49m\u001b[43m)\u001b[49m\n",
      "\u001b[1;31mTypeError\u001b[0m: 'int' object is not iterable"
     ]
    }
   ],
   "source": [
    "# int object cannot be iterable(data inside the data)\n",
    "l.extend(5)"
   ]
  },
  {
   "cell_type": "code",
   "execution_count": 38,
   "id": "4472dbdf",
   "metadata": {},
   "outputs": [],
   "source": [
    "l.extend(\"Shreyas\")"
   ]
  },
  {
   "cell_type": "code",
   "execution_count": 39,
   "id": "d2b342ad",
   "metadata": {},
   "outputs": [
    {
     "data": {
      "text/plain": [
       "[3,\n",
       " 3.5,\n",
       " 'Shreyas',\n",
       " True,\n",
       " (5+7j),\n",
       " 5,\n",
       " 'pwskills',\n",
       " [3, 5, 6],\n",
       " 'S',\n",
       " 'h',\n",
       " 'r',\n",
       " 'e',\n",
       " 'y',\n",
       " 'a',\n",
       " 's']"
      ]
     },
     "execution_count": 39,
     "metadata": {},
     "output_type": "execute_result"
    }
   ],
   "source": [
    "l"
   ]
  },
  {
   "cell_type": "code",
   "execution_count": 40,
   "id": "cf0dc2af",
   "metadata": {},
   "outputs": [],
   "source": [
    "# Extend can be used for the iterable indexes means data inside the data \n",
    "# Since we can breakdown the strings threfore they are iterable \n",
    "# we cant able to breakdown integers threfore they are not iterable objects "
   ]
  },
  {
   "cell_type": "code",
   "execution_count": 42,
   "id": "e42f4d81",
   "metadata": {},
   "outputs": [],
   "source": [
    "l.extend([8,6,7])"
   ]
  },
  {
   "cell_type": "code",
   "execution_count": 43,
   "id": "b50ed1cd",
   "metadata": {},
   "outputs": [
    {
     "data": {
      "text/plain": [
       "[3,\n",
       " 3.5,\n",
       " 'Shreyas',\n",
       " True,\n",
       " (5+7j),\n",
       " 5,\n",
       " 'pwskills',\n",
       " [3, 5, 6],\n",
       " 'S',\n",
       " 'h',\n",
       " 'r',\n",
       " 'e',\n",
       " 'y',\n",
       " 'a',\n",
       " 's',\n",
       " 8,\n",
       " 6,\n",
       " 7]"
      ]
     },
     "execution_count": 43,
     "metadata": {},
     "output_type": "execute_result"
    }
   ],
   "source": [
    "l"
   ]
  },
  {
   "cell_type": "code",
   "execution_count": 44,
   "id": "aa4676ee",
   "metadata": {},
   "outputs": [
    {
     "data": {
      "text/plain": [
       "[3, 5, 6]"
      ]
     },
     "execution_count": 44,
     "metadata": {},
     "output_type": "execute_result"
    }
   ],
   "source": [
    "l1"
   ]
  },
  {
   "cell_type": "code",
   "execution_count": 46,
   "id": "add52056",
   "metadata": {},
   "outputs": [],
   "source": [
    "# Insert function used to add the data whre we want to put our data in a list \n",
    "l1.insert(1,\"Shreyas\")"
   ]
  },
  {
   "cell_type": "code",
   "execution_count": 47,
   "id": "1b10a25c",
   "metadata": {},
   "outputs": [
    {
     "data": {
      "text/plain": [
       "[3, 'Shreyas', 5, 6]"
      ]
     },
     "execution_count": 47,
     "metadata": {},
     "output_type": "execute_result"
    }
   ],
   "source": [
    "l1"
   ]
  },
  {
   "cell_type": "code",
   "execution_count": 49,
   "id": "f59341a7",
   "metadata": {},
   "outputs": [],
   "source": [
    "l1.insert(2,[7,89,9])"
   ]
  },
  {
   "cell_type": "code",
   "execution_count": 50,
   "id": "d318a0f8",
   "metadata": {},
   "outputs": [
    {
     "data": {
      "text/plain": [
       "[3, 'Shreyas', [7, 89, 9], 5, 6]"
      ]
     },
     "execution_count": 50,
     "metadata": {},
     "output_type": "execute_result"
    }
   ],
   "source": [
    "l1"
   ]
  },
  {
   "cell_type": "code",
   "execution_count": 51,
   "id": "f6a5f7ef",
   "metadata": {},
   "outputs": [],
   "source": [
    "# append and extend used to add the data at the last positionn in a differentr context"
   ]
  },
  {
   "cell_type": "code",
   "execution_count": 52,
   "id": "074c8bf7",
   "metadata": {},
   "outputs": [],
   "source": [
    "l1.insert(-1,74)\n",
    "# Here, data 6 pushed towards forward and at that position we got 74"
   ]
  },
  {
   "cell_type": "code",
   "execution_count": 53,
   "id": "04697c0f",
   "metadata": {},
   "outputs": [
    {
     "data": {
      "text/plain": [
       "[3, 'Shreyas', [7, 89, 9], 5, 74, 6]"
      ]
     },
     "execution_count": 53,
     "metadata": {},
     "output_type": "execute_result"
    }
   ],
   "source": [
    "l1"
   ]
  },
  {
   "cell_type": "code",
   "execution_count": 54,
   "id": "1d05a09a",
   "metadata": {},
   "outputs": [],
   "source": [
    "# Pop method in a list removes the data at the indexes by default it removes\n",
    "# form the -1"
   ]
  },
  {
   "cell_type": "code",
   "execution_count": 55,
   "id": "675283ae",
   "metadata": {},
   "outputs": [],
   "source": [
    "# The remove function always  go with the elements that we gonna pass \n",
    "# Where as pop go with the indexes of the list elements \n",
    "l1.remove(3)"
   ]
  },
  {
   "cell_type": "code",
   "execution_count": 56,
   "id": "d45d2fd9",
   "metadata": {},
   "outputs": [
    {
     "data": {
      "text/plain": [
       "['Shreyas', [7, 89, 9], 5, 74, 6]"
      ]
     },
     "execution_count": 56,
     "metadata": {},
     "output_type": "execute_result"
    }
   ],
   "source": [
    "l1"
   ]
  },
  {
   "cell_type": "code",
   "execution_count": 62,
   "id": "c9e12330",
   "metadata": {},
   "outputs": [
    {
     "data": {
      "text/plain": [
       "['Shreyas', [7, 89, 9], 5, 74, 6]"
      ]
     },
     "execution_count": 62,
     "metadata": {},
     "output_type": "execute_result"
    }
   ],
   "source": [
    "l1\n"
   ]
  },
  {
   "cell_type": "code",
   "execution_count": 64,
   "id": "e874289b",
   "metadata": {},
   "outputs": [],
   "source": [
    "l1.remove(\"Shreyas\")"
   ]
  },
  {
   "cell_type": "code",
   "execution_count": 65,
   "id": "f9a49816",
   "metadata": {},
   "outputs": [
    {
     "data": {
      "text/plain": [
       "[[7, 89, 9], 5, 74, 6]"
      ]
     },
     "execution_count": 65,
     "metadata": {},
     "output_type": "execute_result"
    }
   ],
   "source": [
    "l1"
   ]
  },
  {
   "cell_type": "code",
   "execution_count": 68,
   "id": "958599c3",
   "metadata": {},
   "outputs": [],
   "source": [
    "l2 = [\"Shreyas\",4,78,90,[3,4,5]]"
   ]
  },
  {
   "cell_type": "code",
   "execution_count": 71,
   "id": "9695096c",
   "metadata": {},
   "outputs": [],
   "source": [
    "# remove only works for the first occurence of the value\n",
    "l2[4].remove(4)"
   ]
  },
  {
   "cell_type": "code",
   "execution_count": 72,
   "id": "411d1fab",
   "metadata": {},
   "outputs": [
    {
     "data": {
      "text/plain": [
       "['Shreyas', 4, 78, 90, [3, 5]]"
      ]
     },
     "execution_count": 72,
     "metadata": {},
     "output_type": "execute_result"
    }
   ],
   "source": [
    "l2"
   ]
  },
  {
   "cell_type": "code",
   "execution_count": 75,
   "id": "c9c7be18",
   "metadata": {},
   "outputs": [
    {
     "data": {
      "text/plain": [
       "4"
      ]
     },
     "execution_count": 75,
     "metadata": {},
     "output_type": "execute_result"
    }
   ],
   "source": [
    "l2.pop(1)"
   ]
  },
  {
   "cell_type": "code",
   "execution_count": 77,
   "id": "9474bf69",
   "metadata": {},
   "outputs": [
    {
     "data": {
      "text/plain": [
       "['Shreyas', 78, 90, [3, 5]]"
      ]
     },
     "execution_count": 77,
     "metadata": {},
     "output_type": "execute_result"
    }
   ],
   "source": [
    "l2"
   ]
  },
  {
   "cell_type": "code",
   "execution_count": 79,
   "id": "b3bb262f",
   "metadata": {},
   "outputs": [
    {
     "ename": "SyntaxError",
     "evalue": "invalid syntax (2199038659.py, line 1)",
     "output_type": "error",
     "traceback": [
      "\u001b[1;36m  Cell \u001b[1;32mIn[79], line 1\u001b[1;36m\u001b[0m\n\u001b[1;33m    l2[1].remove(as)\u001b[0m\n\u001b[1;37m                 ^\u001b[0m\n\u001b[1;31mSyntaxError\u001b[0m\u001b[1;31m:\u001b[0m invalid syntax\n"
     ]
    }
   ],
   "source": [
    "# Strings in a list are the immutable objects therefore we cant able to \n",
    "# remove 'a' and 's' in a string \"Shreyas\"\n",
    "# \n",
    "l2[1].remove()"
   ]
  },
  {
   "cell_type": "code",
   "execution_count": 80,
   "id": "9e5dc906",
   "metadata": {},
   "outputs": [
    {
     "data": {
      "text/plain": [
       "[90, 78, 4, 'Shreyas', [3, 4, 5]]"
      ]
     },
     "execution_count": 80,
     "metadata": {},
     "output_type": "execute_result"
    }
   ],
   "source": [
    "l1[::-1]\n",
    "# It is a temporary reversse of  a list "
   ]
  },
  {
   "cell_type": "code",
   "execution_count": 82,
   "id": "60aa875d",
   "metadata": {},
   "outputs": [],
   "source": [
    "l1.reverse()\n",
    "# This function makes a permanent  reverse of a list "
   ]
  },
  {
   "cell_type": "code",
   "execution_count": 83,
   "id": "e3740b85",
   "metadata": {},
   "outputs": [
    {
     "data": {
      "text/plain": [
       "[90, 78, 4, 'Shreyas', [3, 4, 5]]"
      ]
     },
     "execution_count": 83,
     "metadata": {},
     "output_type": "execute_result"
    }
   ],
   "source": [
    "l1"
   ]
  },
  {
   "cell_type": "code",
   "execution_count": 84,
   "id": "5db1dff9",
   "metadata": {},
   "outputs": [],
   "source": [
    "# Assign operation reverses the whole list permanently also instead of \n",
    "# reverse function also \n",
    "l1 = l1[::-1]"
   ]
  },
  {
   "cell_type": "code",
   "execution_count": 85,
   "id": "82cd6bdd",
   "metadata": {},
   "outputs": [
    {
     "data": {
      "text/plain": [
       "[[3, 4, 5], 'Shreyas', 4, 78, 90]"
      ]
     },
     "execution_count": 85,
     "metadata": {},
     "output_type": "execute_result"
    }
   ],
   "source": [
    "l1"
   ]
  },
  {
   "cell_type": "code",
   "execution_count": 86,
   "id": "4d4a3d59",
   "metadata": {},
   "outputs": [
    {
     "ename": "TypeError",
     "evalue": "'<' not supported between instances of 'str' and 'list'",
     "output_type": "error",
     "traceback": [
      "\u001b[1;31m---------------------------------------------------------------------------\u001b[0m",
      "\u001b[1;31mTypeError\u001b[0m                                 Traceback (most recent call last)",
      "Cell \u001b[1;32mIn[86], line 1\u001b[0m\n\u001b[1;32m----> 1\u001b[0m \u001b[43ml1\u001b[49m\u001b[38;5;241;43m.\u001b[39;49m\u001b[43msort\u001b[49m\u001b[43m(\u001b[49m\u001b[43m)\u001b[49m\n",
      "\u001b[1;31mTypeError\u001b[0m: '<' not supported between instances of 'str' and 'list'"
     ]
    }
   ],
   "source": [
    "l1.sort()"
   ]
  },
  {
   "cell_type": "code",
   "execution_count": 87,
   "id": "1859b0a2",
   "metadata": {},
   "outputs": [
    {
     "ename": "TypeError",
     "evalue": "'<' not supported between instances of 'int' and 'str'",
     "output_type": "error",
     "traceback": [
      "\u001b[1;31m---------------------------------------------------------------------------\u001b[0m",
      "\u001b[1;31mTypeError\u001b[0m                                 Traceback (most recent call last)",
      "Cell \u001b[1;32mIn[87], line 2\u001b[0m\n\u001b[0;32m      1\u001b[0m \u001b[38;5;66;03m# Sort function also works only if we have the similer data types \u001b[39;00m\n\u001b[1;32m----> 2\u001b[0m \u001b[43ml2\u001b[49m\u001b[38;5;241;43m.\u001b[39;49m\u001b[43msort\u001b[49m\u001b[43m(\u001b[49m\u001b[43m)\u001b[49m\n",
      "\u001b[1;31mTypeError\u001b[0m: '<' not supported between instances of 'int' and 'str'"
     ]
    }
   ],
   "source": [
    "# Sort function also works only if we have the similer data types \n",
    "l2.sort()"
   ]
  },
  {
   "cell_type": "code",
   "execution_count": 88,
   "id": "05ac690e",
   "metadata": {},
   "outputs": [],
   "source": [
    "l3 = [5,.67,90,0,1,3,6,785,90.78]\n",
    "l3.sort()"
   ]
  },
  {
   "cell_type": "code",
   "execution_count": 89,
   "id": "6f0829cb",
   "metadata": {},
   "outputs": [
    {
     "data": {
      "text/plain": [
       "[0, 0.67, 1, 3, 5, 6, 90, 90.78, 785]"
      ]
     },
     "execution_count": 89,
     "metadata": {},
     "output_type": "execute_result"
    }
   ],
   "source": [
    "l3"
   ]
  },
  {
   "cell_type": "code",
   "execution_count": 93,
   "id": "a3b11027",
   "metadata": {},
   "outputs": [],
   "source": [
    "l4 = [\"Shreyas\", \"Girish\",\"Chillal\",\"Shahapur\",\"Dist:Yadgiri\"]"
   ]
  },
  {
   "cell_type": "code",
   "execution_count": 94,
   "id": "c4addb2d",
   "metadata": {},
   "outputs": [],
   "source": [
    "# Sort function in a list arrange the values in an ascending order only\n",
    "l4.sort()"
   ]
  },
  {
   "cell_type": "code",
   "execution_count": 95,
   "id": "3b36c1d2",
   "metadata": {},
   "outputs": [
    {
     "data": {
      "text/plain": [
       "['Chillal', 'Dist:Yadgiri', 'Girish', 'Shahapur', 'Shreyas']"
      ]
     },
     "execution_count": 95,
     "metadata": {},
     "output_type": "execute_result"
    }
   ],
   "source": [
    "l4"
   ]
  },
  {
   "cell_type": "code",
   "execution_count": 96,
   "id": "32df7d7f",
   "metadata": {},
   "outputs": [],
   "source": [
    "l4.sort(reverse = True )"
   ]
  },
  {
   "cell_type": "code",
   "execution_count": 97,
   "id": "4eb200af",
   "metadata": {},
   "outputs": [
    {
     "data": {
      "text/plain": [
       "['Shreyas', 'Shahapur', 'Girish', 'Dist:Yadgiri', 'Chillal']"
      ]
     },
     "execution_count": 97,
     "metadata": {},
     "output_type": "execute_result"
    }
   ],
   "source": [
    "l4"
   ]
  },
  {
   "cell_type": "code",
   "execution_count": 99,
   "id": "c5f831fa",
   "metadata": {},
   "outputs": [
    {
     "data": {
      "text/plain": [
       "0"
      ]
     },
     "execution_count": 99,
     "metadata": {},
     "output_type": "execute_result"
    }
   ],
   "source": [
    "l4.index(\"Shreyas\")"
   ]
  },
  {
   "cell_type": "code",
   "execution_count": 109,
   "id": "a9e7293e",
   "metadata": {},
   "outputs": [
    {
     "name": "stdout",
     "output_type": "stream",
     "text": [
      "4\n"
     ]
    }
   ],
   "source": [
    "print(l4.index(\"Chillal\"))"
   ]
  },
  {
   "cell_type": "code",
   "execution_count": 111,
   "id": "c4bd9ed2",
   "metadata": {},
   "outputs": [
    {
     "data": {
      "text/plain": [
       "1"
      ]
     },
     "execution_count": 111,
     "metadata": {},
     "output_type": "execute_result"
    }
   ],
   "source": [
    "l4.count(\"Shreyas\")"
   ]
  },
  {
   "cell_type": "code",
   "execution_count": 112,
   "id": "5d6bdf2a",
   "metadata": {},
   "outputs": [],
   "source": [
    "s1 = \"Shreyas\""
   ]
  },
  {
   "cell_type": "code",
   "execution_count": 113,
   "id": "1508c908",
   "metadata": {},
   "outputs": [],
   "source": [
    "l5 = [3,4,5,6]"
   ]
  },
  {
   "cell_type": "code",
   "execution_count": 114,
   "id": "b21acb5b",
   "metadata": {},
   "outputs": [
    {
     "data": {
      "text/plain": [
       "'S'"
      ]
     },
     "execution_count": 114,
     "metadata": {},
     "output_type": "execute_result"
    }
   ],
   "source": [
    "s1[0]"
   ]
  },
  {
   "cell_type": "code",
   "execution_count": 3,
   "id": "3d58d5b3",
   "metadata": {},
   "outputs": [],
   "source": [
    "s2 = \"Washington DC\""
   ]
  },
  {
   "cell_type": "code",
   "execution_count": 5,
   "id": "bbabc198",
   "metadata": {},
   "outputs": [
    {
     "data": {
      "text/plain": [
       "'W'"
      ]
     },
     "execution_count": 5,
     "metadata": {},
     "output_type": "execute_result"
    }
   ],
   "source": [
    "s2[0]"
   ]
  },
  {
   "cell_type": "code",
   "execution_count": 6,
   "id": "c4a153f7",
   "metadata": {},
   "outputs": [],
   "source": [
    "# We can't able to mutate String objects\n",
    "# The  mutability means we are able to change the string object by means\n",
    "# of its index"
   ]
  },
  {
   "cell_type": "code",
   "execution_count": 8,
   "id": "ce3505fa",
   "metadata": {},
   "outputs": [
    {
     "ename": "TypeError",
     "evalue": "'str' object does not support item assignment",
     "output_type": "error",
     "traceback": [
      "\u001b[1;31m---------------------------------------------------------------------------\u001b[0m",
      "\u001b[1;31mTypeError\u001b[0m                                 Traceback (most recent call last)",
      "Cell \u001b[1;32mIn[8], line 1\u001b[0m\n\u001b[1;32m----> 1\u001b[0m s2[\u001b[38;5;241m0\u001b[39m] \u001b[38;5;241m=\u001b[39m \u001b[38;5;124m\"\u001b[39m\u001b[38;5;124mD\u001b[39m\u001b[38;5;124m\"\u001b[39m\n",
      "\u001b[1;31mTypeError\u001b[0m: 'str' object does not support item assignment"
     ]
    }
   ],
   "source": [
    "s2[0] = \"D\"\n",
    "# Here we can see that the strings cant be able to change "
   ]
  },
  {
   "cell_type": "code",
   "execution_count": null,
   "id": "c05028e1",
   "metadata": {},
   "outputs": [],
   "source": [
    "# With the replace(Reasignment) function we can change the string \n",
    "# object temporarily but not the permanently since the original remains same\n",
    "# We cant change at the same memory location \n",
    "# Its been added at the different memory location "
   ]
  },
  {
   "cell_type": "code",
   "execution_count": 9,
   "id": "f6f040f0",
   "metadata": {},
   "outputs": [
    {
     "data": {
      "text/plain": [
       "'Zashington DC'"
      ]
     },
     "execution_count": 9,
     "metadata": {},
     "output_type": "execute_result"
    }
   ],
   "source": [
    "s2.replace ('W' , 'Z')"
   ]
  },
  {
   "cell_type": "code",
   "execution_count": 10,
   "id": "32a813fc",
   "metadata": {},
   "outputs": [
    {
     "data": {
      "text/plain": [
       "'Washington DC'"
      ]
     },
     "execution_count": 10,
     "metadata": {},
     "output_type": "execute_result"
    }
   ],
   "source": [
    "s2"
   ]
  },
  {
   "cell_type": "code",
   "execution_count": null,
   "id": "ea8008a8",
   "metadata": {},
   "outputs": [],
   "source": [
    "# Tuples : These are the same data type as that of the list but these are \n",
    "# Immutable objects in Python \n",
    "# Tuples aren't able to change like the list elements \n",
    "# tuple' object does not support item assignment\n",
    "# Tuples are basically used to save the items like Password in \n",
    "# accounts like facebook,linkedIn,etc\n",
    "# Item reassignmemt is different than  mutability \n",
    "# Tuples have only two functions count and index"
   ]
  },
  {
   "cell_type": "code",
   "execution_count": null,
   "id": "778aec9c",
   "metadata": {},
   "outputs": [],
   "source": [
    "# Lists can be mutable data types Tuples arent "
   ]
  },
  {
   "cell_type": "code",
   "execution_count": 11,
   "id": "0de958db",
   "metadata": {},
   "outputs": [],
   "source": [
    "t = (2,4, 55, \"Shreyas\" ,False , 7+6j,[4,6,7])"
   ]
  },
  {
   "cell_type": "code",
   "execution_count": 12,
   "id": "b887f805",
   "metadata": {},
   "outputs": [
    {
     "data": {
      "text/plain": [
       "(2, 4, 55, 'Shreyas', False, (7+6j), [4, 6, 7])"
      ]
     },
     "execution_count": 12,
     "metadata": {},
     "output_type": "execute_result"
    }
   ],
   "source": [
    "t"
   ]
  },
  {
   "cell_type": "code",
   "execution_count": 13,
   "id": "a99bb8fb",
   "metadata": {},
   "outputs": [
    {
     "data": {
      "text/plain": [
       "tuple"
      ]
     },
     "execution_count": 13,
     "metadata": {},
     "output_type": "execute_result"
    }
   ],
   "source": [
    "type(t)"
   ]
  },
  {
   "cell_type": "code",
   "execution_count": 14,
   "id": "05935167",
   "metadata": {},
   "outputs": [
    {
     "data": {
      "text/plain": [
       "7"
      ]
     },
     "execution_count": 14,
     "metadata": {},
     "output_type": "execute_result"
    }
   ],
   "source": [
    "len(t)"
   ]
  },
  {
   "cell_type": "code",
   "execution_count": 16,
   "id": "a00f6a39",
   "metadata": {},
   "outputs": [
    {
     "data": {
      "text/plain": [
       "2"
      ]
     },
     "execution_count": 16,
     "metadata": {},
     "output_type": "execute_result"
    }
   ],
   "source": [
    "t[0]"
   ]
  },
  {
   "cell_type": "code",
   "execution_count": 17,
   "id": "477e00e1",
   "metadata": {},
   "outputs": [
    {
     "data": {
      "text/plain": [
       "[4, 6, 7]"
      ]
     },
     "execution_count": 17,
     "metadata": {},
     "output_type": "execute_result"
    }
   ],
   "source": [
    "t[-1]"
   ]
  },
  {
   "cell_type": "code",
   "execution_count": 18,
   "id": "c8cfc52e",
   "metadata": {},
   "outputs": [
    {
     "data": {
      "text/plain": [
       "([4, 6, 7], (7+6j), False, 'Shreyas', 55, 4, 2)"
      ]
     },
     "execution_count": 18,
     "metadata": {},
     "output_type": "execute_result"
    }
   ],
   "source": [
    "# Reverse of tuple \n",
    "t[::-1]"
   ]
  },
  {
   "cell_type": "code",
   "execution_count": 20,
   "id": "ae32c6c3",
   "metadata": {},
   "outputs": [],
   "source": [
    "# We can able to change the list by accessing proper index\n",
    "l6 = [45, \"shreyas\" , False , [8,9,0]]"
   ]
  },
  {
   "cell_type": "code",
   "execution_count": 22,
   "id": "62a24f4c",
   "metadata": {},
   "outputs": [],
   "source": [
    "l6[0] = 78"
   ]
  },
  {
   "cell_type": "code",
   "execution_count": 23,
   "id": "0bd19f24",
   "metadata": {},
   "outputs": [
    {
     "data": {
      "text/plain": [
       "[78, 'shreyas', False, [8, 9, 0]]"
      ]
     },
     "execution_count": 23,
     "metadata": {},
     "output_type": "execute_result"
    }
   ],
   "source": [
    "l6"
   ]
  },
  {
   "cell_type": "code",
   "execution_count": 24,
   "id": "81ff8ba2",
   "metadata": {},
   "outputs": [
    {
     "ename": "TypeError",
     "evalue": "'tuple' object does not support item assignment",
     "output_type": "error",
     "traceback": [
      "\u001b[1;31m---------------------------------------------------------------------------\u001b[0m",
      "\u001b[1;31mTypeError\u001b[0m                                 Traceback (most recent call last)",
      "Cell \u001b[1;32mIn[24], line 1\u001b[0m\n\u001b[1;32m----> 1\u001b[0m t[\u001b[38;5;241m0\u001b[39m] \u001b[38;5;241m=\u001b[39m \u001b[38;5;241m89\u001b[39m\n",
      "\u001b[1;31mTypeError\u001b[0m: 'tuple' object does not support item assignment"
     ]
    }
   ],
   "source": [
    "\n",
    "t[0] = 89"
   ]
  },
  {
   "cell_type": "code",
   "execution_count": null,
   "id": "b58bd134",
   "metadata": {},
   "outputs": [],
   "source": [
    "# Sets in Python :Unordered Collection of unique objects \n",
    "# We basically use curly braces in sets  \n",
    "# Sets only provide unique data types"
   ]
  },
  {
   "cell_type": "code",
   "execution_count": 25,
   "id": "2d2bcc3a",
   "metadata": {},
   "outputs": [],
   "source": [
    "set = {}"
   ]
  },
  {
   "cell_type": "code",
   "execution_count": 26,
   "id": "95587977",
   "metadata": {},
   "outputs": [
    {
     "data": {
      "text/plain": [
       "dict"
      ]
     },
     "execution_count": 26,
     "metadata": {},
     "output_type": "execute_result"
    }
   ],
   "source": [
    "type(set)"
   ]
  },
  {
   "cell_type": "code",
   "execution_count": 37,
   "id": "47dfdb83",
   "metadata": {},
   "outputs": [],
   "source": [
    "s4 = {2.4,45,6,6,\"Shreyas\", False , 4+5j,5.7}"
   ]
  },
  {
   "cell_type": "code",
   "execution_count": 38,
   "id": "de52bf20",
   "metadata": {},
   "outputs": [
    {
     "data": {
      "text/plain": [
       "set"
      ]
     },
     "execution_count": 38,
     "metadata": {},
     "output_type": "execute_result"
    }
   ],
   "source": [
    "type(s4)"
   ]
  },
  {
   "cell_type": "code",
   "execution_count": null,
   "id": "75c1a201",
   "metadata": {},
   "outputs": [],
   "source": [
    "# We can't able to insert list in set\n",
    "# But we can able to insert Tuple elements in set \n",
    "# Since Tuples are immutable whereas lists are mutable collections"
   ]
  },
  {
   "cell_type": "code",
   "execution_count": 41,
   "id": "d959106d",
   "metadata": {},
   "outputs": [],
   "source": [
    "# Sets only provide unique data types\n",
    "s5 = {1,23,2,3,4,67,4,56,5,6,90,7,6,\"Shreyas\" , \"shreyas\"}"
   ]
  },
  {
   "cell_type": "markdown",
   "id": "0c61d6b7",
   "metadata": {},
   "source": [
    "s5"
   ]
  },
  {
   "cell_type": "code",
   "execution_count": 42,
   "id": "0019e650",
   "metadata": {},
   "outputs": [
    {
     "data": {
      "text/plain": [
       "{1, 2, 23, 3, 4, 5, 56, 6, 67, 7, 90, 'Shreyas', 'shreyas'}"
      ]
     },
     "execution_count": 42,
     "metadata": {},
     "output_type": "execute_result"
    }
   ],
   "source": [
    "s5"
   ]
  },
  {
   "cell_type": "code",
   "execution_count": 2,
   "id": "eb39e66f",
   "metadata": {},
   "outputs": [],
   "source": [
    "l_7 = [3,4,5,6,7,67,8,9,\"Shreyas\"]"
   ]
  },
  {
   "cell_type": "code",
   "execution_count": 3,
   "id": "aff67f66",
   "metadata": {},
   "outputs": [],
   "source": [
    "L = set(l_7)"
   ]
  },
  {
   "cell_type": "code",
   "execution_count": 4,
   "id": "7c05c11e",
   "metadata": {},
   "outputs": [
    {
     "data": {
      "text/plain": [
       "{3, 4, 5, 6, 67, 7, 8, 9, 'Shreyas'}"
      ]
     },
     "execution_count": 4,
     "metadata": {},
     "output_type": "execute_result"
    }
   ],
   "source": [
    "L"
   ]
  },
  {
   "cell_type": "code",
   "execution_count": 5,
   "id": "742b516f",
   "metadata": {},
   "outputs": [],
   "source": [
    "s6 = {2,3,4,2,3,3,4,5,6,7,8}"
   ]
  },
  {
   "cell_type": "code",
   "execution_count": 7,
   "id": "6d438d59",
   "metadata": {},
   "outputs": [
    {
     "data": {
      "text/plain": [
       "{2, 3, 4, 5, 6, 7, 8}"
      ]
     },
     "execution_count": 7,
     "metadata": {},
     "output_type": "execute_result"
    }
   ],
   "source": [
    "# Here we can see set only provide unique data types\n",
    "s6"
   ]
  },
  {
   "cell_type": "code",
   "execution_count": 12,
   "id": "b5fc26cd",
   "metadata": {},
   "outputs": [],
   "source": [
    "# Set does not allow arrangements of ordered data type colllection\n",
    "s7 = {2,3,67,78,89,69.77,878,445,54,67,78,86.8,454,65,3,4,5,6,7,8}"
   ]
  },
  {
   "cell_type": "code",
   "execution_count": 13,
   "id": "831ba43d",
   "metadata": {},
   "outputs": [
    {
     "data": {
      "text/plain": [
       "{2, 3, 4, 5, 6, 7, 8, 54, 65, 67, 69.77, 78, 86.8, 89, 445, 454, 878}"
      ]
     },
     "execution_count": 13,
     "metadata": {},
     "output_type": "execute_result"
    }
   ],
   "source": [
    "s7"
   ]
  },
  {
   "cell_type": "code",
   "execution_count": 15,
   "id": "bc659f94",
   "metadata": {},
   "outputs": [
    {
     "ename": "TypeError",
     "evalue": "'set' object is not subscriptable",
     "output_type": "error",
     "traceback": [
      "\u001b[1;31m---------------------------------------------------------------------------\u001b[0m",
      "\u001b[1;31mTypeError\u001b[0m                                 Traceback (most recent call last)",
      "Cell \u001b[1;32mIn[15], line 3\u001b[0m\n\u001b[0;32m      1\u001b[0m \u001b[38;5;66;03m# Both Indexing and slicinng operation doesnot work in a set method \u001b[39;00m\n\u001b[0;32m      2\u001b[0m \u001b[38;5;66;03m# It says that 'set' object is not subscriptable\u001b[39;00m\n\u001b[1;32m----> 3\u001b[0m \u001b[43ms7\u001b[49m\u001b[43m[\u001b[49m\u001b[38;5;241;43m5\u001b[39;49m\u001b[43m]\u001b[49m\n",
      "\u001b[1;31mTypeError\u001b[0m: 'set' object is not subscriptable"
     ]
    }
   ],
   "source": [
    "# Both Indexing and slicinng operation doesnot work in a set method \n",
    "# Which otherwise working in case of tuple,strings and lists \n",
    "# It says that 'set' object is not subscriptable\n",
    "s7[5]"
   ]
  },
  {
   "cell_type": "code",
   "execution_count": 16,
   "id": "83daaaa5",
   "metadata": {},
   "outputs": [
    {
     "ename": "TypeError",
     "evalue": "'set' object is not subscriptable",
     "output_type": "error",
     "traceback": [
      "\u001b[1;31m---------------------------------------------------------------------------\u001b[0m",
      "\u001b[1;31mTypeError\u001b[0m                                 Traceback (most recent call last)",
      "Cell \u001b[1;32mIn[16], line 1\u001b[0m\n\u001b[1;32m----> 1\u001b[0m \u001b[43ms7\u001b[49m\u001b[43m[\u001b[49m\u001b[43m:\u001b[49m\u001b[43m:\u001b[49m\u001b[38;5;241;43m6\u001b[39;49m\u001b[43m]\u001b[49m\n",
      "\u001b[1;31mTypeError\u001b[0m: 'set' object is not subscriptable"
     ]
    }
   ],
   "source": [
    "s7[::6]"
   ]
  },
  {
   "cell_type": "code",
   "execution_count": null,
   "id": "462f9d4e",
   "metadata": {},
   "outputs": [],
   "source": [
    "# Set Methods : add,clear,copy,discard,intersection,difference,indisjoint\n",
    "# issubset,difference_update,indisjoint,union,pop,remove,symmetric_difference "
   ]
  },
  {
   "cell_type": "code",
   "execution_count": 18,
   "id": "3ac097da",
   "metadata": {},
   "outputs": [],
   "source": [
    "s7.add(9)"
   ]
  },
  {
   "cell_type": "code",
   "execution_count": 19,
   "id": "b06b1514",
   "metadata": {},
   "outputs": [
    {
     "data": {
      "text/plain": [
       "{2, 3, 4, 5, 6, 7, 8, 9, 54, 65, 67, 69.77, 78, 86.8, 89, 445, 454, 878}"
      ]
     },
     "execution_count": 19,
     "metadata": {},
     "output_type": "execute_result"
    }
   ],
   "source": [
    "s7"
   ]
  },
  {
   "cell_type": "code",
   "execution_count": null,
   "id": "dbec113e",
   "metadata": {},
   "outputs": [],
   "source": [
    "# set doesnot have an indexing instead it has hashing \n",
    "# hashing is something in whhich to place any number unique it generates a random key\n",
    "# We should not add at perticular position like we do in a list\n",
    "# The things we have studied here will be used while reading the data from \n",
    "# the Excel sheets ,cloud,Doc files "
   ]
  },
  {
   "cell_type": "code",
   "execution_count": 1,
   "id": "aacd97cd",
   "metadata": {},
   "outputs": [],
   "source": [
    "l = [\"a\",\"b\",\"c\",\"d\",\"1\",\"2\",\"3\",\"4\"]"
   ]
  },
  {
   "cell_type": "code",
   "execution_count": 3,
   "id": "45d48cb9",
   "metadata": {},
   "outputs": [],
   "source": [
    "l.sort()"
   ]
  },
  {
   "cell_type": "code",
   "execution_count": 1,
   "id": "76f6437c",
   "metadata": {},
   "outputs": [],
   "source": [
    "l = [1,2,3,4,56,67,[2,3,4,56,7]]"
   ]
  },
  {
   "cell_type": "code",
   "execution_count": 2,
   "id": "da2b381e",
   "metadata": {},
   "outputs": [],
   "source": [
    "l.extend(\"Shreyas\")"
   ]
  },
  {
   "cell_type": "code",
   "execution_count": 3,
   "id": "82d041a1",
   "metadata": {},
   "outputs": [
    {
     "data": {
      "text/plain": [
       "[1, 2, 3, 4, 56, 67, [2, 3, 4, 56, 7], 'S', 'h', 'r', 'e', 'y', 'a', 's']"
      ]
     },
     "execution_count": 3,
     "metadata": {},
     "output_type": "execute_result"
    }
   ],
   "source": [
    "l"
   ]
  },
  {
   "cell_type": "code",
   "execution_count": null,
   "id": "3de48c2a",
   "metadata": {},
   "outputs": [],
   "source": []
  },
  {
   "cell_type": "code",
   "execution_count": null,
   "id": "5b981320",
   "metadata": {},
   "outputs": [],
   "source": []
  },
  {
   "cell_type": "code",
   "execution_count": 4,
   "id": "c7fab948",
   "metadata": {},
   "outputs": [],
   "source": [
    "# Record_3:Dictionary,Conditional,Loop\n"
   ]
  },
  {
   "cell_type": "code",
   "execution_count": 5,
   "id": "50c5dc65",
   "metadata": {},
   "outputs": [],
   "source": [
    "d = {}"
   ]
  },
  {
   "cell_type": "code",
   "execution_count": 6,
   "id": "98eb6d21",
   "metadata": {},
   "outputs": [
    {
     "data": {
      "text/plain": [
       "dict"
      ]
     },
     "execution_count": 6,
     "metadata": {},
     "output_type": "execute_result"
    }
   ],
   "source": [
    "type(d)"
   ]
  },
  {
   "cell_type": "code",
   "execution_count": 8,
   "id": "6dae72f3",
   "metadata": {},
   "outputs": [],
   "source": [
    "d_1 = {\"Key\":\"Value\" }"
   ]
  },
  {
   "cell_type": "code",
   "execution_count": 10,
   "id": "be2694b3",
   "metadata": {},
   "outputs": [
    {
     "data": {
      "text/plain": [
       "{'Key': 'Value'}"
      ]
     },
     "execution_count": 10,
     "metadata": {},
     "output_type": "execute_result"
    }
   ],
   "source": [
    "d_1"
   ]
  },
  {
   "cell_type": "code",
   "execution_count": 9,
   "id": "fc89a3d6",
   "metadata": {},
   "outputs": [
    {
     "data": {
      "text/plain": [
       "dict"
      ]
     },
     "execution_count": 9,
     "metadata": {},
     "output_type": "execute_result"
    }
   ],
   "source": [
    "type(d_1)"
   ]
  },
  {
   "cell_type": "code",
   "execution_count": 4,
   "id": "7290f876",
   "metadata": {},
   "outputs": [
    {
     "data": {
      "text/plain": [
       "['1', '2', '3', '4', 'a', 'b', 'c', 'd']"
      ]
     },
     "execution_count": 4,
     "metadata": {},
     "output_type": "execute_result"
    }
   ],
   "source": [
    "l"
   ]
  },
  {
   "cell_type": "code",
   "execution_count": 5,
   "id": "85cf6d34",
   "metadata": {},
   "outputs": [],
   "source": [
    "s = \"Shreyas\""
   ]
  },
  {
   "cell_type": "code",
   "execution_count": 6,
   "id": "362bfde3",
   "metadata": {},
   "outputs": [
    {
     "data": {
      "text/plain": [
       "['S', 'h', 'r', 'e', 'y', 'a', 's']"
      ]
     },
     "execution_count": 6,
     "metadata": {},
     "output_type": "execute_result"
    }
   ],
   "source": [
    "list(s)"
   ]
  },
  {
   "cell_type": "code",
   "execution_count": 8,
   "id": "18fd83cb",
   "metadata": {},
   "outputs": [],
   "source": [
    "l.insert(3,list(s))"
   ]
  },
  {
   "cell_type": "code",
   "execution_count": 9,
   "id": "80eaab19",
   "metadata": {},
   "outputs": [
    {
     "data": {
      "text/plain": [
       "['1', '2', '3', ['S', 'h', 'r', 'e', 'y', 'a', 's'], '4', 'a', 'b', 'c', 'd']"
      ]
     },
     "execution_count": 9,
     "metadata": {},
     "output_type": "execute_result"
    }
   ],
   "source": [
    "l"
   ]
  },
  {
   "cell_type": "code",
   "execution_count": null,
   "id": "ec2c0ef0",
   "metadata": {},
   "outputs": [],
   "source": [
    "# The difference between append and extend is append will add the data at the \n",
    "# end of the list where as extend will first break the data then add it to the\n",
    "# end of the list \n",
    "# Extend will only take the iterable(breaking) objects and add it the end of the list\n",
    "# Insert function will give us the flexibility to add the data anywhere in the list"
   ]
  },
  {
   "cell_type": "code",
   "execution_count": 12,
   "id": "bc1b7c3d",
   "metadata": {},
   "outputs": [],
   "source": [
    "# In dictionary special case characters are not allowed \n",
    "# Key as a boolean value works \n",
    "# Strings,boolean,alphanum characters are allowed in keys "
   ]
  },
  {
   "cell_type": "code",
   "execution_count": 22,
   "id": "de71750f",
   "metadata": {},
   "outputs": [],
   "source": [
    "d_2 = {\"name\":\"Shreyas\" , \"email\":\"shreyas@gmail.com\",True:6785}"
   ]
  },
  {
   "cell_type": "code",
   "execution_count": 23,
   "id": "f14f4c03",
   "metadata": {},
   "outputs": [
    {
     "data": {
      "text/plain": [
       "{'name': 'Shreyas', 'email': 'shreyas@gmail.com', True: 6785}"
      ]
     },
     "execution_count": 23,
     "metadata": {},
     "output_type": "execute_result"
    }
   ],
   "source": [
    "d_2"
   ]
  },
  {
   "cell_type": "code",
   "execution_count": 24,
   "id": "3e80f760",
   "metadata": {},
   "outputs": [
    {
     "data": {
      "text/plain": [
       "'Shreyas'"
      ]
     },
     "execution_count": 24,
     "metadata": {},
     "output_type": "execute_result"
    }
   ],
   "source": [
    "d_2[\"name\"]"
   ]
  },
  {
   "cell_type": "code",
   "execution_count": 25,
   "id": "f8a3795d",
   "metadata": {},
   "outputs": [
    {
     "data": {
      "text/plain": [
       "'shreyas@gmail.com'"
      ]
     },
     "execution_count": 25,
     "metadata": {},
     "output_type": "execute_result"
    }
   ],
   "source": [
    "d_2[\"email\"]"
   ]
  },
  {
   "cell_type": "code",
   "execution_count": 26,
   "id": "b27954a0",
   "metadata": {},
   "outputs": [
    {
     "data": {
      "text/plain": [
       "6785"
      ]
     },
     "execution_count": 26,
     "metadata": {},
     "output_type": "execute_result"
    }
   ],
   "source": [
    "d_2[True]"
   ]
  },
  {
   "cell_type": "code",
   "execution_count": 27,
   "id": "7646ba5f",
   "metadata": {},
   "outputs": [
    {
     "data": {
      "text/plain": [
       "6785"
      ]
     },
     "execution_count": 27,
     "metadata": {},
     "output_type": "execute_result"
    }
   ],
   "source": [
    "d_2[1]"
   ]
  },
  {
   "cell_type": "code",
   "execution_count": 20,
   "id": "92fe5e63",
   "metadata": {},
   "outputs": [],
   "source": [
    "d = {\"shreyas\":\"Chillal\"}"
   ]
  },
  {
   "cell_type": "code",
   "execution_count": 22,
   "id": "bdb0dc38",
   "metadata": {},
   "outputs": [
    {
     "data": {
      "text/plain": [
       "dict"
      ]
     },
     "execution_count": 22,
     "metadata": {},
     "output_type": "execute_result"
    }
   ],
   "source": [
    "type(d)"
   ]
  },
  {
   "cell_type": "code",
   "execution_count": 28,
   "id": "3c4a2ed5",
   "metadata": {},
   "outputs": [],
   "source": [
    "d_3 = {\"name\":\"Shreyas\",\"name\":\"shreyas\"}"
   ]
  },
  {
   "cell_type": "code",
   "execution_count": 29,
   "id": "e349168f",
   "metadata": {},
   "outputs": [
    {
     "data": {
      "text/plain": [
       "'shreyas'"
      ]
     },
     "execution_count": 29,
     "metadata": {},
     "output_type": "execute_result"
    }
   ],
   "source": [
    "d_3[\"name\"]"
   ]
  },
  {
   "cell_type": "code",
   "execution_count": 30,
   "id": "a76c0d09",
   "metadata": {},
   "outputs": [],
   "source": [
    "# Key should be unique if we give multiple same key then it will give the value \n",
    "# of the last key \n",
    "# We can also put the value as a list in dictionary "
   ]
  },
  {
   "cell_type": "code",
   "execution_count": 32,
   "id": "9efaacc3",
   "metadata": {},
   "outputs": [],
   "source": [
    "d4 = {\"company\":\"pwskills\",\"courses\":[\"web_dev\",\"Data_Science\",\"Java DSA\"]}"
   ]
  },
  {
   "cell_type": "code",
   "execution_count": 34,
   "id": "e5459d81",
   "metadata": {},
   "outputs": [
    {
     "data": {
      "text/plain": [
       "['web_dev', 'Data_Science', 'Java DSA']"
      ]
     },
     "execution_count": 34,
     "metadata": {},
     "output_type": "execute_result"
    }
   ],
   "source": [
    "d4[\"courses\"]"
   ]
  },
  {
   "cell_type": "code",
   "execution_count": 35,
   "id": "b6eedf51",
   "metadata": {},
   "outputs": [
    {
     "data": {
      "text/plain": [
       "'Java DSA'"
      ]
     },
     "execution_count": 35,
     "metadata": {},
     "output_type": "execute_result"
    }
   ],
   "source": [
    "# Remove \"Java DSA\"\n",
    "d4[\"courses\"] [2]"
   ]
  },
  {
   "cell_type": "code",
   "execution_count": 44,
   "id": "56ca8b25",
   "metadata": {},
   "outputs": [],
   "source": [
    "# Different data types in dictionary as a value (we can take any )\n",
    "d5 = {\"number\": [4,5,67,2,34],\"assignment\":(3,4,6,7,85,5),\"launch_date\":{12,4,6,15},\"class_time(PM)\":{\"web_dev\":8,\"Data_Science\":9,\"Java_SD\":10}}"
   ]
  },
  {
   "cell_type": "code",
   "execution_count": 45,
   "id": "70522f4a",
   "metadata": {},
   "outputs": [
    {
     "data": {
      "text/plain": [
       "{4, 6, 12, 15}"
      ]
     },
     "execution_count": 45,
     "metadata": {},
     "output_type": "execute_result"
    }
   ],
   "source": [
    "d5[\"launch_date\"]"
   ]
  },
  {
   "cell_type": "code",
   "execution_count": 46,
   "id": "4831fa5a",
   "metadata": {},
   "outputs": [
    {
     "data": {
      "text/plain": [
       "{'web_dev': 8, 'Data_Science': 9, 'Java_SD': 10}"
      ]
     },
     "execution_count": 46,
     "metadata": {},
     "output_type": "execute_result"
    }
   ],
   "source": [
    "d5[\"class_time(PM)\"]"
   ]
  },
  {
   "cell_type": "code",
   "execution_count": 47,
   "id": "c5d781ca",
   "metadata": {},
   "outputs": [
    {
     "data": {
      "text/plain": [
       "{'number': [4, 5, 67, 2, 34],\n",
       " 'assignment': (3, 4, 6, 7, 85, 5),\n",
       " 'launch_date': {4, 6, 12, 15},\n",
       " 'class_time(PM)': {'web_dev': 8, 'Data_Science': 9, 'Java_SD': 10}}"
      ]
     },
     "execution_count": 47,
     "metadata": {},
     "output_type": "execute_result"
    }
   ],
   "source": [
    "d5"
   ]
  },
  {
   "cell_type": "code",
   "execution_count": 49,
   "id": "a9393cef",
   "metadata": {},
   "outputs": [
    {
     "data": {
      "text/plain": [
       "10"
      ]
     },
     "execution_count": 49,
     "metadata": {},
     "output_type": "execute_result"
    }
   ],
   "source": [
    "d5[\"class_time(PM)\"][\"Java_SD\"]"
   ]
  },
  {
   "cell_type": "code",
   "execution_count": 52,
   "id": "7e7cd400",
   "metadata": {},
   "outputs": [],
   "source": [
    "d5[\"mentor\"] = [\"Sudanshu\",\"Krish\",\"Hayder\",\"Vani\"]"
   ]
  },
  {
   "cell_type": "code",
   "execution_count": 53,
   "id": "15ad4930",
   "metadata": {},
   "outputs": [
    {
     "data": {
      "text/plain": [
       "{'number': [4, 5, 67, 2, 34],\n",
       " 'assignment': (3, 4, 6, 7, 85, 5),\n",
       " 'launch_date': {4, 6, 12, 15},\n",
       " 'class_time(PM)': {'web_dev': 8, 'Data_Science': 9, 'Java_SD': 10},\n",
       " 'mentor': ['Sudanshu', 'Krish', 'Hayder', 'Vani']}"
      ]
     },
     "execution_count": 53,
     "metadata": {},
     "output_type": "execute_result"
    }
   ],
   "source": [
    "d5"
   ]
  },
  {
   "cell_type": "code",
   "execution_count": 54,
   "id": "082b2589",
   "metadata": {},
   "outputs": [],
   "source": [
    "del d5[\"number\"]"
   ]
  },
  {
   "cell_type": "code",
   "execution_count": 55,
   "id": "64b6afa9",
   "metadata": {},
   "outputs": [
    {
     "data": {
      "text/plain": [
       "{'assignment': (3, 4, 6, 7, 85, 5),\n",
       " 'launch_date': {4, 6, 12, 15},\n",
       " 'class_time(PM)': {'web_dev': 8, 'Data_Science': 9, 'Java_SD': 10},\n",
       " 'mentor': ['Sudanshu', 'Krish', 'Hayder', 'Vani']}"
      ]
     },
     "execution_count": 55,
     "metadata": {},
     "output_type": "execute_result"
    }
   ],
   "source": [
    "d5"
   ]
  },
  {
   "cell_type": "code",
   "execution_count": 56,
   "id": "8ae8fffb",
   "metadata": {},
   "outputs": [],
   "source": [
    "d5[\"Dic_Methods\"] = [\"copy\",\"get\",\"items\",\"pop\",\"fromkeys\",\"popitem\",\"update\",\"values\"]"
   ]
  },
  {
   "cell_type": "code",
   "execution_count": 57,
   "id": "694236e6",
   "metadata": {},
   "outputs": [
    {
     "data": {
      "text/plain": [
       "{'assignment': (3, 4, 6, 7, 85, 5),\n",
       " 'launch_date': {4, 6, 12, 15},\n",
       " 'class_time(PM)': {'web_dev': 8, 'Data_Science': 9, 'Java_SD': 10},\n",
       " 'mentor': ['Sudanshu', 'Krish', 'Hayder', 'Vani'],\n",
       " 'Dic_Methods': ['copy',\n",
       "  'get',\n",
       "  'items',\n",
       "  'pop',\n",
       "  'fromkeys',\n",
       "  'popitem',\n",
       "  'update',\n",
       "  'values']}"
      ]
     },
     "execution_count": 57,
     "metadata": {},
     "output_type": "execute_result"
    }
   ],
   "source": [
    "d5"
   ]
  },
  {
   "cell_type": "code",
   "execution_count": 58,
   "id": "1e625c25",
   "metadata": {},
   "outputs": [
    {
     "data": {
      "text/plain": [
       "dict_keys(['assignment', 'launch_date', 'class_time(PM)', 'mentor', 'Dic_Methods'])"
      ]
     },
     "execution_count": 58,
     "metadata": {},
     "output_type": "execute_result"
    }
   ],
   "source": [
    "d5.keys()"
   ]
  },
  {
   "cell_type": "code",
   "execution_count": 60,
   "id": "e7061d63",
   "metadata": {},
   "outputs": [
    {
     "data": {
      "text/plain": [
       "dict_values([(3, 4, 6, 7, 85, 5), {12, 4, 6, 15}, {'web_dev': 8, 'Data_Science': 9, 'Java_SD': 10}, ['Sudanshu', 'Krish', 'Hayder', 'Vani'], ['copy', 'get', 'items', 'pop', 'fromkeys', 'popitem', 'update', 'values']])"
      ]
     },
     "execution_count": 60,
     "metadata": {},
     "output_type": "execute_result"
    }
   ],
   "source": [
    "d5.values()"
   ]
  },
  {
   "cell_type": "code",
   "execution_count": 61,
   "id": "30ef40be",
   "metadata": {},
   "outputs": [
    {
     "data": {
      "text/plain": [
       "dict_items([('assignment', (3, 4, 6, 7, 85, 5)), ('launch_date', {12, 4, 6, 15}), ('class_time(PM)', {'web_dev': 8, 'Data_Science': 9, 'Java_SD': 10}), ('mentor', ['Sudanshu', 'Krish', 'Hayder', 'Vani']), ('Dic_Methods', ['copy', 'get', 'items', 'pop', 'fromkeys', 'popitem', 'update', 'values'])])"
      ]
     },
     "execution_count": 61,
     "metadata": {},
     "output_type": "execute_result"
    }
   ],
   "source": [
    "d5.items()"
   ]
  },
  {
   "cell_type": "code",
   "execution_count": 62,
   "id": "1311c4c2",
   "metadata": {},
   "outputs": [
    {
     "data": {
      "text/plain": [
       "[('assignment', (3, 4, 6, 7, 85, 5)),\n",
       " ('launch_date', {4, 6, 12, 15}),\n",
       " ('class_time(PM)', {'web_dev': 8, 'Data_Science': 9, 'Java_SD': 10}),\n",
       " ('mentor', ['Sudanshu', 'Krish', 'Hayder', 'Vani']),\n",
       " ('Dic_Methods',\n",
       "  ['copy', 'get', 'items', 'pop', 'fromkeys', 'popitem', 'update', 'values'])]"
      ]
     },
     "execution_count": 62,
     "metadata": {},
     "output_type": "execute_result"
    }
   ],
   "source": [
    "list(d5.items())\n",
    "# Here,Tuples holds Key:Value Pairs"
   ]
  },
  {
   "cell_type": "code",
   "execution_count": 63,
   "id": "8bb00ce2",
   "metadata": {},
   "outputs": [],
   "source": [
    "# Pop method extract a data from the dictionary if we give key then it will remove value from that key"
   ]
  },
  {
   "cell_type": "code",
   "execution_count": 64,
   "id": "2abf0873",
   "metadata": {},
   "outputs": [
    {
     "data": {
      "text/plain": [
       "(3, 4, 6, 7, 85, 5)"
      ]
     },
     "execution_count": 64,
     "metadata": {},
     "output_type": "execute_result"
    }
   ],
   "source": [
    "d5.pop(\"assignment\")"
   ]
  },
  {
   "cell_type": "code",
   "execution_count": 65,
   "id": "4a15aa63",
   "metadata": {},
   "outputs": [],
   "source": [
    "# In case of the list we've been able to remove the data from the last we \n",
    "# haven't mentioned the key Whereas  in case of the dictionary it is not possible "
   ]
  },
  {
   "cell_type": "code",
   "execution_count": null,
   "id": "c9eeaf16",
   "metadata": {},
   "outputs": [],
   "source": [
    "# equal to(=) just assign the data (Called an assignment Operator)\n",
    "# equal-equal to(==) compare the data (called a comparision operator)"
   ]
  },
  {
   "cell_type": "code",
   "execution_count": 14,
   "id": "de1d92b8",
   "metadata": {},
   "outputs": [
    {
     "name": "stdout",
     "output_type": "stream",
     "text": [
      "Enter your marks788\n",
      "you will be a part of A0 batch\n"
     ]
    }
   ],
   "source": [
    "# \"If\" and \"Elif\" conditions\n",
    "marks = int(input(\"Enter your marks\"))\n",
    "if marks >= 80 :\n",
    "    print(\"you will be a part of A0 batch\")\n",
    "elif marks >= 60 and marks < 80 :\n",
    "    print(\"you will be a part of A1 batch\")\n",
    "elif marks >= 40 and marks < 60 :\n",
    "    print(\"you will be a part of A2 batch\")\n",
    "else:\n",
    "    print(\"you will be a part of A3 batch\")"
   ]
  },
  {
   "cell_type": "code",
   "execution_count": 2,
   "id": "f7510f95",
   "metadata": {},
   "outputs": [
    {
     "name": "stdout",
     "output_type": "stream",
     "text": [
      "Enter price6758\n",
      "I'll not purchase\n"
     ]
    }
   ],
   "source": [
    "price = int ( input (\"Enter price\"))\n",
    "if price > 1000 :\n",
    "    print (\"I'll not purchase\")\n",
    "else :\n",
    "    print (\"I'll purchase\")"
   ]
  },
  {
   "cell_type": "code",
   "execution_count": 6,
   "id": "c3125bed",
   "metadata": {},
   "outputs": [
    {
     "name": "stdout",
     "output_type": "stream",
     "text": [
      "Enter price 56\n",
      "I'll purchase\n"
     ]
    }
   ],
   "source": [
    "price = int (input(\"Enter price \"))\n",
    "if price > 1000:\n",
    "    print(\"I'll not purchase\")\n",
    "    if price > 5000:\n",
    "        print(\"This is too much\")\n",
    "    elif price < 2000:\n",
    "        print(\"Its ok\")\n",
    "elif price < 1000:\n",
    "    print(\"I'll purchase\")\n",
    "else :\n",
    "    print(\"not interested \")"
   ]
  },
  {
   "cell_type": "code",
   "execution_count": 1,
   "id": "40154a64",
   "metadata": {},
   "outputs": [],
   "source": [
    "# Loops in Python:\n",
    "l = [1,2,3,4,5,6,7]\n",
    "# add  1 at every element of this list"
   ]
  },
  {
   "cell_type": "code",
   "execution_count": 2,
   "id": "6b0f3f8b",
   "metadata": {},
   "outputs": [
    {
     "data": {
      "text/plain": [
       "1"
      ]
     },
     "execution_count": 2,
     "metadata": {},
     "output_type": "execute_result"
    }
   ],
   "source": [
    "l[0]"
   ]
  },
  {
   "cell_type": "code",
   "execution_count": 3,
   "id": "fc10daa7",
   "metadata": {},
   "outputs": [
    {
     "data": {
      "text/plain": [
       "2"
      ]
     },
     "execution_count": 3,
     "metadata": {},
     "output_type": "execute_result"
    }
   ],
   "source": [
    "l[0] + 1"
   ]
  },
  {
   "cell_type": "code",
   "execution_count": 5,
   "id": "aafd3b84",
   "metadata": {},
   "outputs": [
    {
     "data": {
      "text/plain": [
       "[2]"
      ]
     },
     "execution_count": 5,
     "metadata": {},
     "output_type": "execute_result"
    }
   ],
   "source": [
    "l1 = []\n",
    "l1.append(l[0]+1)\n",
    "l1"
   ]
  },
  {
   "cell_type": "code",
   "execution_count": 6,
   "id": "2c807ac6",
   "metadata": {},
   "outputs": [
    {
     "name": "stdout",
     "output_type": "stream",
     "text": [
      "1\n",
      "2\n",
      "3\n",
      "4\n",
      "5\n",
      "6\n",
      "7\n"
     ]
    }
   ],
   "source": [
    "# For loops in Python:\n",
    "for i in l :\n",
    "    print(i)"
   ]
  },
  {
   "cell_type": "code",
   "execution_count": 7,
   "id": "371c48eb",
   "metadata": {},
   "outputs": [
    {
     "name": "stdout",
     "output_type": "stream",
     "text": [
      "1\n",
      "2\n",
      "3\n",
      "4\n",
      "5\n",
      "6\n",
      "7\n"
     ]
    }
   ],
   "source": [
    "for w in l :\n",
    "    print(w)"
   ]
  },
  {
   "cell_type": "code",
   "execution_count": 9,
   "id": "a753c350",
   "metadata": {},
   "outputs": [
    {
     "name": "stdout",
     "output_type": "stream",
     "text": [
      "2\n",
      "3\n",
      "4\n",
      "5\n",
      "6\n",
      "7\n",
      "8\n"
     ]
    }
   ],
   "source": [
    "# Now our objective is to add +1 to the every element of l \n",
    "# To do so we first create a new blank list \n",
    "l1 = []\n",
    "for i in l :\n",
    "    print(i+1)\n",
    "    l1.append(i+1)"
   ]
  },
  {
   "cell_type": "code",
   "execution_count": 10,
   "id": "8f4f4383",
   "metadata": {},
   "outputs": [
    {
     "data": {
      "text/plain": [
       "[2, 3, 4, 5, 6, 7, 8]"
      ]
     },
     "execution_count": 10,
     "metadata": {},
     "output_type": "execute_result"
    }
   ],
   "source": [
    "l1"
   ]
  },
  {
   "cell_type": "code",
   "execution_count": 7,
   "id": "7917018c",
   "metadata": {},
   "outputs": [],
   "source": [
    "l = [\"Artemis-II Crew Members:\",\"Ried Wiseman:Mission Specialist\",\"Victor Glover:Test Pilot\",\"Christina Koch:Mission Specialist\",\"Jeremy Hanson:Mission Specialist\"]"
   ]
  },
  {
   "cell_type": "code",
   "execution_count": 8,
   "id": "3e6e1e67",
   "metadata": {},
   "outputs": [
    {
     "name": "stdout",
     "output_type": "stream",
     "text": [
      "Artemis-II Crew Members:\n",
      "Ried Wiseman:Mission Specialist\n",
      "Victor Glover:Test Pilot\n",
      "Christina Koch:Mission Specialist\n",
      "Jeremy Hanson:Mission Specialist\n"
     ]
    }
   ],
   "source": [
    "l1 = []\n",
    "for i in l :\n",
    "    print(i)\n",
    "    l1.append (i.upper())"
   ]
  },
  {
   "cell_type": "code",
   "execution_count": 9,
   "id": "636be66e",
   "metadata": {},
   "outputs": [
    {
     "data": {
      "text/plain": [
       "['ARTEMIS-II CREW MEMBERS:',\n",
       " 'RIED WISEMAN:MISSION SPECIALIST',\n",
       " 'VICTOR GLOVER:TEST PILOT',\n",
       " 'CHRISTINA KOCH:MISSION SPECIALIST',\n",
       " 'JEREMY HANSON:MISSION SPECIALIST']"
      ]
     },
     "execution_count": 9,
     "metadata": {},
     "output_type": "execute_result"
    }
   ],
   "source": [
    "l1"
   ]
  },
  {
   "cell_type": "code",
   "execution_count": 6,
   "id": "9d9fc3dc",
   "metadata": {},
   "outputs": [],
   "source": [
    "l = [1,2,3,4,5,6,\"Shreyas\",\"Nepoleon\",4.56,\"Hill\"]"
   ]
  },
  {
   "cell_type": "code",
   "execution_count": 15,
   "id": "bf78cfb4",
   "metadata": {},
   "outputs": [
    {
     "ename": "NameError",
     "evalue": "name 'l' is not defined",
     "output_type": "error",
     "traceback": [
      "\u001b[1;31m---------------------------------------------------------------------------\u001b[0m",
      "\u001b[1;31mNameError\u001b[0m                                 Traceback (most recent call last)",
      "Cell \u001b[1;32mIn[15], line 3\u001b[0m\n\u001b[0;32m      1\u001b[0m l5_num \u001b[38;5;241m=\u001b[39m []\n\u001b[0;32m      2\u001b[0m l6_str \u001b[38;5;241m=\u001b[39m []\n\u001b[1;32m----> 3\u001b[0m \u001b[38;5;28;01mfor\u001b[39;00m i \u001b[38;5;129;01min\u001b[39;00m \u001b[43ml\u001b[49m:\n\u001b[0;32m      4\u001b[0m     l5_num\u001b[38;5;241m.\u001b[39mappend(i)\n\u001b[0;32m      5\u001b[0m     l6_str,append(i)\n",
      "\u001b[1;31mNameError\u001b[0m: name 'l' is not defined"
     ]
    }
   ],
   "source": [
    "l5_num = []\n",
    "l6_str = []\n",
    "for i in l:\n",
    "    l5_num.append(i)\n",
    "    l6_str,append(i)\n",
    "        "
   ]
  },
  {
   "cell_type": "code",
   "execution_count": 9,
   "id": "107248b0",
   "metadata": {},
   "outputs": [
    {
     "ename": "NameError",
     "evalue": "name 'l5_num' is not defined",
     "output_type": "error",
     "traceback": [
      "\u001b[1;31m---------------------------------------------------------------------------\u001b[0m",
      "\u001b[1;31mNameError\u001b[0m                                 Traceback (most recent call last)",
      "Cell \u001b[1;32mIn[9], line 1\u001b[0m\n\u001b[1;32m----> 1\u001b[0m \u001b[43ml5_num\u001b[49m\n",
      "\u001b[1;31mNameError\u001b[0m: name 'l5_num' is not defined"
     ]
    }
   ],
   "source": [
    "l5_num"
   ]
  },
  {
   "cell_type": "code",
   "execution_count": 2,
   "id": "5a819c27",
   "metadata": {},
   "outputs": [],
   "source": [
    "s2 = (1,2,3,4,\"class\",True)"
   ]
  },
  {
   "cell_type": "code",
   "execution_count": 3,
   "id": "5300ef12",
   "metadata": {},
   "outputs": [
    {
     "data": {
      "text/plain": [
       "0"
      ]
     },
     "execution_count": 3,
     "metadata": {},
     "output_type": "execute_result"
    }
   ],
   "source": [
    "s2.index(1)"
   ]
  },
  {
   "cell_type": "code",
   "execution_count": 4,
   "id": "28e30b1b",
   "metadata": {},
   "outputs": [
    {
     "data": {
      "text/plain": [
       "2"
      ]
     },
     "execution_count": 4,
     "metadata": {},
     "output_type": "execute_result"
    }
   ],
   "source": [
    "s2.count(1)"
   ]
  },
  {
   "cell_type": "code",
   "execution_count": 5,
   "id": "16baa618",
   "metadata": {},
   "outputs": [
    {
     "data": {
      "text/plain": [
       "2"
      ]
     },
     "execution_count": 5,
     "metadata": {},
     "output_type": "execute_result"
    }
   ],
   "source": [
    "s2.count(True)"
   ]
  },
  {
   "cell_type": "code",
   "execution_count": 3,
   "id": "f1754466",
   "metadata": {},
   "outputs": [
    {
     "name": "stdout",
     "output_type": "stream",
     "text": [
      "Enter your marks67\n",
      "you will be a part of A1 batch\n"
     ]
    }
   ],
   "source": [
    "marks = int(input(\"Enter your marks\"))\n",
    "\n",
    "if marks > 100 :\n",
    "    print(\"This is not a valid marks \")\n",
    "else:\n",
    "    if marks >= 80 :\n",
    "        print(\"you will be a part of A0 batch\")\n",
    "    elif marks >= 60 and marks < 80 :\n",
    "        print(\"you will be a part of A1 batch\")\n",
    "    elif marks >= 40 and marks < 60 :\n",
    "        print(\"you will be a part of A2 batch\")\n",
    "    else:\n",
    "        print(\"you will be a part of A3 batch\")\n",
    "    \n"
   ]
  },
  {
   "cell_type": "code",
   "execution_count": 23,
   "id": "6add9d8d",
   "metadata": {},
   "outputs": [
    {
     "name": "stdout",
     "output_type": "stream",
     "text": [
      "keys : ['c', 'c', 'c']\n",
      "values : ['Coding', 'Coding', 'Coding']\n"
     ]
    }
   ],
   "source": [
    "dic1 = {\"a\": \"Shreyas\",\"b\" : \"Love\",\"c\" : \"Coding\"}\n",
    "\n",
    "keys = []\n",
    "values = []\n",
    "for item in dic1.items():\n",
    "    keys.append(items[0]),values.append(items[1])\n",
    "print(\"keys :\",keys)\n",
    "print(\"values :\" , values)"
   ]
  },
  {
   "cell_type": "code",
   "execution_count": 28,
   "id": "30be7de3",
   "metadata": {},
   "outputs": [
    {
     "ename": "AttributeError",
     "evalue": "'tuple' object has no attribute 'fromkeys'",
     "output_type": "error",
     "traceback": [
      "\u001b[1;31m---------------------------------------------------------------------------\u001b[0m",
      "\u001b[1;31mAttributeError\u001b[0m                            Traceback (most recent call last)",
      "Cell \u001b[1;32mIn[28], line 2\u001b[0m\n\u001b[0;32m      1\u001b[0m d8 \u001b[38;5;241m=\u001b[39m \u001b[38;5;241m6\u001b[39m,\u001b[38;5;241m78\u001b[39m,\u001b[38;5;241m99\u001b[39m,\u001b[38;5;241m9\u001b[39m\n\u001b[1;32m----> 2\u001b[0m \u001b[43md8\u001b[49m\u001b[38;5;241;43m.\u001b[39;49m\u001b[43mfromkeys\u001b[49m[\u001b[38;5;241m2\u001b[39m,\u001b[38;5;241m3\u001b[39m,\u001b[38;5;241m4\u001b[39m,\u001b[38;5;241m6\u001b[39m]\n",
      "\u001b[1;31mAttributeError\u001b[0m: 'tuple' object has no attribute 'fromkeys'"
     ]
    }
   ],
   "source": [
    "d8 = 6,78,99,9\n",
    "d8.fromkeys[2,3,4,6]"
   ]
  },
  {
   "cell_type": "code",
   "execution_count": 1,
   "id": "8debb479",
   "metadata": {},
   "outputs": [],
   "source": [
    "l = [1,2,3,4,5]"
   ]
  },
  {
   "cell_type": "code",
   "execution_count": 2,
   "id": "fa5964ca",
   "metadata": {},
   "outputs": [
    {
     "name": "stdout",
     "output_type": "stream",
     "text": [
      "1\n",
      "2\n",
      "3\n",
      "4\n",
      "5\n"
     ]
    }
   ],
   "source": [
    "for u in l :\n",
    "    print(u)"
   ]
  },
  {
   "cell_type": "code",
   "execution_count": 6,
   "id": "c8eeaf56",
   "metadata": {},
   "outputs": [
    {
     "name": "stdout",
     "output_type": "stream",
     "text": [
      "5 <class 'int'>\n"
     ]
    }
   ],
   "source": [
    "print(u,type(u))"
   ]
  },
  {
   "cell_type": "code",
   "execution_count": 7,
   "id": "36dc58e0",
   "metadata": {},
   "outputs": [],
   "source": [
    "l1 = [\"Space X\",\"Nasa\",\"Isro\",\"Jaxa\",\"Roscosmos\",\"Northrupan\",\"Lockheed Martin\"]"
   ]
  },
  {
   "cell_type": "code",
   "execution_count": 8,
   "id": "f0068712",
   "metadata": {},
   "outputs": [
    {
     "name": "stdout",
     "output_type": "stream",
     "text": [
      "Space X <class 'str'>\n",
      "Nasa <class 'str'>\n",
      "Isro <class 'str'>\n",
      "Jaxa <class 'str'>\n",
      "Roscossmos <class 'str'>\n",
      "Northrupan <class 'str'>\n",
      "Lockheed Martin <class 'str'>\n"
     ]
    }
   ],
   "source": [
    "for i in l1:\n",
    "    print(i,type(i))"
   ]
  },
  {
   "cell_type": "code",
   "execution_count": 2,
   "id": "ba76b583",
   "metadata": {},
   "outputs": [
    {
     "name": "stdout",
     "output_type": "stream",
     "text": [
      "Smash\n",
      "Lobester\n",
      "Prawn\n",
      "Strepson\n",
      "Do something\n"
     ]
    }
   ],
   "source": [
    "l1 = [\"Smash\",\"Lobester\",\"Prawn\",\"Strepson\"]\n",
    "for i in l1:\n",
    "    print(i)\n",
    "else:\n",
    "    print(\"Do something\")\n",
    "# Else loop execute only when for loop complete itself completely"
   ]
  },
  {
   "cell_type": "code",
   "execution_count": 3,
   "id": "ad0f695a",
   "metadata": {},
   "outputs": [
    {
     "name": "stdout",
     "output_type": "stream",
     "text": [
      "Stephen\n"
     ]
    }
   ],
   "source": [
    "# \"Break\" and \"Continue\" Statements in Python\n",
    "l2 = [\"Stephen\",\"Hawkins\",\"Blackhole\",\"Fast Radio Burst\"]\n",
    "for i in l2 :\n",
    "    if i == \"Hawkins\":\n",
    "        break\n",
    "    print(i)"
   ]
  },
  {
   "cell_type": "code",
   "execution_count": 5,
   "id": "d7f086eb",
   "metadata": {},
   "outputs": [
    {
     "data": {
      "text/plain": [
       "'2024'"
      ]
     },
     "execution_count": 5,
     "metadata": {},
     "output_type": "execute_result"
    }
   ],
   "source": [
    "l3 = [\"Nasa\",\"Artemis-2\",\"Moon\",\"2024\"]\n",
    "l3[3]"
   ]
  },
  {
   "cell_type": "code",
   "execution_count": 6,
   "id": "0e635b29",
   "metadata": {},
   "outputs": [
    {
     "name": "stdout",
     "output_type": "stream",
     "text": [
      "Nasa\n"
     ]
    }
   ],
   "source": [
    "for i in l3 :\n",
    "    if i == \"Artemis-2\":\n",
    "        break\n",
    "    print(i)\n",
    "else:\n",
    "    print(\"Execute only if for loop completes itself\")"
   ]
  },
  {
   "cell_type": "code",
   "execution_count": 8,
   "id": "2b287647",
   "metadata": {},
   "outputs": [
    {
     "name": "stdout",
     "output_type": "stream",
     "text": [
      "Nasa\n"
     ]
    }
   ],
   "source": [
    "for i in l3:\n",
    "    print(i)\n",
    "    break\n",
    "else:\n",
    "    print(\"Execute only if Forloop able to complete itself\")\n",
    "    "
   ]
  },
  {
   "cell_type": "code",
   "execution_count": 9,
   "id": "269b929b",
   "metadata": {},
   "outputs": [
    {
     "data": {
      "text/plain": [
       "['Nasa', 'Artemis-2', 'Moon', '2024']"
      ]
     },
     "execution_count": 9,
     "metadata": {},
     "output_type": "execute_result"
    }
   ],
   "source": [
    "l3"
   ]
  },
  {
   "cell_type": "code",
   "execution_count": 10,
   "id": "f30869a8",
   "metadata": {},
   "outputs": [
    {
     "name": "stdout",
     "output_type": "stream",
     "text": [
      "Nasa\n",
      "Moon\n",
      "2024\n"
     ]
    }
   ],
   "source": [
    "# Continue statement\n",
    "for i in l3 :\n",
    "    if i == \"Artemis-2\":\n",
    "        continue\n",
    "    \n",
    "    print(i)"
   ]
  },
  {
   "cell_type": "code",
   "execution_count": 11,
   "id": "e7a4e359",
   "metadata": {},
   "outputs": [
    {
     "data": {
      "text/plain": [
       "['Nasa', 'Artemis-2', 'Moon', '2024']"
      ]
     },
     "execution_count": 11,
     "metadata": {},
     "output_type": "execute_result"
    }
   ],
   "source": [
    "l3"
   ]
  },
  {
   "cell_type": "code",
   "execution_count": 13,
   "id": "ee77b9da",
   "metadata": {},
   "outputs": [
    {
     "name": "stdout",
     "output_type": "stream",
     "text": [
      "Nasa\n",
      "Moon\n",
      "2024\n",
      "Execute only if 'Forloop 'able to complete itself \n"
     ]
    }
   ],
   "source": [
    "# Else with \"continue\"\n",
    "for i in l3 :\n",
    "    if i == \"Artemis-2\":\n",
    "        continue\n",
    "    print(i)\n",
    "else :\n",
    "    print(\"Else Executes only if 'Forloop 'able to complete itself \")"
   ]
  },
  {
   "cell_type": "code",
   "execution_count": 15,
   "id": "26642f90",
   "metadata": {},
   "outputs": [
    {
     "data": {
      "text/plain": [
       "range(0, 5)"
      ]
     },
     "execution_count": 15,
     "metadata": {},
     "output_type": "execute_result"
    }
   ],
   "source": [
    "# \"Range Function\" also called Generator Function \n",
    "range(5)"
   ]
  },
  {
   "cell_type": "code",
   "execution_count": 16,
   "id": "b6040d91",
   "metadata": {},
   "outputs": [
    {
     "data": {
      "text/plain": [
       "[0, 1, 2, 3, 4]"
      ]
     },
     "execution_count": 16,
     "metadata": {},
     "output_type": "execute_result"
    }
   ],
   "source": [
    "list(range(5))"
   ]
  },
  {
   "cell_type": "code",
   "execution_count": 17,
   "id": "15a4f426",
   "metadata": {},
   "outputs": [
    {
     "data": {
      "text/plain": [
       "[0, 1, 2, 3, 4]"
      ]
     },
     "execution_count": 17,
     "metadata": {},
     "output_type": "execute_result"
    }
   ],
   "source": [
    "list(range (0,5,1))"
   ]
  },
  {
   "cell_type": "code",
   "execution_count": 18,
   "id": "1b47bf5c",
   "metadata": {},
   "outputs": [
    {
     "data": {
      "text/plain": [
       "[0, 2, 4]"
      ]
     },
     "execution_count": 18,
     "metadata": {},
     "output_type": "execute_result"
    }
   ],
   "source": [
    "list(range (0,5,2))"
   ]
  },
  {
   "cell_type": "code",
   "execution_count": 19,
   "id": "96f1ed03",
   "metadata": {},
   "outputs": [
    {
     "data": {
      "text/plain": [
       "[0, 2, 4, 6, 8, 10, 12, 14, 16, 18]"
      ]
     },
     "execution_count": 19,
     "metadata": {},
     "output_type": "execute_result"
    }
   ],
   "source": [
    "list(range(0,20,2))"
   ]
  },
  {
   "cell_type": "code",
   "execution_count": 21,
   "id": "b9ee1725",
   "metadata": {},
   "outputs": [
    {
     "data": {
      "text/plain": [
       "[-10, -8, -6, -4, -2]"
      ]
     },
     "execution_count": 21,
     "metadata": {},
     "output_type": "execute_result"
    }
   ],
   "source": [
    "list(range(-10,0,2))"
   ]
  },
  {
   "cell_type": "code",
   "execution_count": 22,
   "id": "c9417190",
   "metadata": {},
   "outputs": [
    {
     "data": {
      "text/plain": [
       "['Smash', 'Lobester', 'Prawn', 'Strepson']"
      ]
     },
     "execution_count": 22,
     "metadata": {},
     "output_type": "execute_result"
    }
   ],
   "source": [
    "l1"
   ]
  },
  {
   "cell_type": "code",
   "execution_count": 23,
   "id": "b1b944ad",
   "metadata": {},
   "outputs": [
    {
     "data": {
      "text/plain": [
       "4"
      ]
     },
     "execution_count": 23,
     "metadata": {},
     "output_type": "execute_result"
    }
   ],
   "source": [
    "len(l1)"
   ]
  },
  {
   "cell_type": "code",
   "execution_count": 26,
   "id": "48982267",
   "metadata": {},
   "outputs": [
    {
     "name": "stdout",
     "output_type": "stream",
     "text": [
      "['Smash', 'Lobester', 'Prawn', 'Strepson']\n",
      "['Smash', 'Lobester', 'Prawn', 'Strepson']\n",
      "['Smash', 'Lobester', 'Prawn', 'Strepson']\n",
      "['Smash', 'Lobester', 'Prawn', 'Strepson']\n"
     ]
    }
   ],
   "source": [
    "for i in range(len(l1)):\n",
    "    print(l1)"
   ]
  },
  {
   "cell_type": "code",
   "execution_count": 27,
   "id": "6e58bb6a",
   "metadata": {},
   "outputs": [
    {
     "data": {
      "text/plain": [
       "[0, 1, 2, 3]"
      ]
     },
     "execution_count": 27,
     "metadata": {},
     "output_type": "execute_result"
    }
   ],
   "source": [
    "list(range(len(l1)))"
   ]
  },
  {
   "cell_type": "code",
   "execution_count": 28,
   "id": "02990f77",
   "metadata": {},
   "outputs": [
    {
     "name": "stdout",
     "output_type": "stream",
     "text": [
      "Smash\n",
      "Lobester\n",
      "Prawn\n",
      "Strepson\n"
     ]
    }
   ],
   "source": [
    "for i in range(len(l1)):\n",
    "    print(l1[i])"
   ]
  },
  {
   "cell_type": "code",
   "execution_count": 18,
   "id": "106a8cc0",
   "metadata": {},
   "outputs": [],
   "source": [
    "l1 = [\"Smash\",\"Lobster\",\"Prawn\",\"Strepson\"]"
   ]
  },
  {
   "cell_type": "code",
   "execution_count": 19,
   "id": "a354f974",
   "metadata": {},
   "outputs": [
    {
     "data": {
      "text/plain": [
       "['Smash', 'Lobster', 'Prawn', 'Strepson']"
      ]
     },
     "execution_count": 19,
     "metadata": {},
     "output_type": "execute_result"
    }
   ],
   "source": [
    "l1"
   ]
  },
  {
   "cell_type": "code",
   "execution_count": 20,
   "id": "ef58d772",
   "metadata": {},
   "outputs": [
    {
     "data": {
      "text/plain": [
       "4"
      ]
     },
     "execution_count": 20,
     "metadata": {},
     "output_type": "execute_result"
    }
   ],
   "source": [
    "len(l1)"
   ]
  },
  {
   "cell_type": "code",
   "execution_count": 21,
   "id": "f6cb9e12",
   "metadata": {},
   "outputs": [
    {
     "data": {
      "text/plain": [
       "range(4, 0)"
      ]
     },
     "execution_count": 21,
     "metadata": {},
     "output_type": "execute_result"
    }
   ],
   "source": [
    "range(len(l1),0)"
   ]
  },
  {
   "cell_type": "code",
   "execution_count": 22,
   "id": "7f0740af",
   "metadata": {},
   "outputs": [
    {
     "data": {
      "text/plain": [
       "[]"
      ]
     },
     "execution_count": 22,
     "metadata": {},
     "output_type": "execute_result"
    }
   ],
   "source": [
    "list(range(len(l1),0))\n",
    "# Since the upper bound is 5 and lower bound is 0 but the jump is +1\n",
    "# Thats why we won't able to get the data "
   ]
  },
  {
   "cell_type": "code",
   "execution_count": 23,
   "id": "ef634dc6",
   "metadata": {},
   "outputs": [
    {
     "data": {
      "text/plain": [
       "[4, 3, 2, 1]"
      ]
     },
     "execution_count": 23,
     "metadata": {},
     "output_type": "execute_result"
    }
   ],
   "source": [
    "list(range(len(l1),0,-1))"
   ]
  },
  {
   "cell_type": "code",
   "execution_count": 24,
   "id": "2a411f45",
   "metadata": {},
   "outputs": [
    {
     "data": {
      "text/plain": [
       "['Smash', 'Lobster', 'Prawn', 'Strepson']"
      ]
     },
     "execution_count": 24,
     "metadata": {},
     "output_type": "execute_result"
    }
   ],
   "source": [
    "l1"
   ]
  },
  {
   "cell_type": "code",
   "execution_count": 25,
   "id": "649c3525",
   "metadata": {},
   "outputs": [
    {
     "data": {
      "text/plain": [
       "[3, 2, 1]"
      ]
     },
     "execution_count": 25,
     "metadata": {},
     "output_type": "execute_result"
    }
   ],
   "source": [
    "list (range (len(l1)-1,0,-1))"
   ]
  },
  {
   "cell_type": "code",
   "execution_count": 26,
   "id": "98e969a3",
   "metadata": {},
   "outputs": [
    {
     "data": {
      "text/plain": [
       "[3, 2, 1, 0]"
      ]
     },
     "execution_count": 26,
     "metadata": {},
     "output_type": "execute_result"
    }
   ],
   "source": [
    "list (range (len(l1)-1,-1,-1))"
   ]
  },
  {
   "cell_type": "code",
   "execution_count": 27,
   "id": "a299f974",
   "metadata": {},
   "outputs": [
    {
     "name": "stdout",
     "output_type": "stream",
     "text": [
      "Strepson\n",
      "Prawn\n",
      "Lobster\n",
      "Smash\n"
     ]
    }
   ],
   "source": [
    "for i in range (len(l1)-1,-1,-1):\n",
    "    print(l1[i])"
   ]
  },
  {
   "cell_type": "code",
   "execution_count": 30,
   "id": "fcdff835",
   "metadata": {},
   "outputs": [
    {
     "name": "stdout",
     "output_type": "stream",
     "text": [
      "Smash\n",
      "Lobster\n",
      "Prawn\n",
      "Strepson\n"
     ]
    }
   ],
   "source": [
    "for i in (l1):\n",
    "     print(i)"
   ]
  },
  {
   "cell_type": "code",
   "execution_count": 35,
   "id": "d583dbc9",
   "metadata": {},
   "outputs": [
    {
     "name": "stdout",
     "output_type": "stream",
     "text": [
      "[0]\n",
      "[1]\n",
      "[2]\n"
     ]
    }
   ],
   "source": [
    "for i in range (len(l1)-1):\n",
    "    print([i])"
   ]
  },
  {
   "cell_type": "code",
   "execution_count": 39,
   "id": "489b9ffd",
   "metadata": {},
   "outputs": [],
   "source": [
    "for i in range (len(l1)-1,-1):\n",
    "    print(i)"
   ]
  },
  {
   "cell_type": "code",
   "execution_count": 38,
   "id": "dd43ebce",
   "metadata": {},
   "outputs": [
    {
     "name": "stdout",
     "output_type": "stream",
     "text": [
      "3\n",
      "2\n",
      "1\n",
      "0\n"
     ]
    }
   ],
   "source": [
    "for i in range (len(l1)-1,-1,-1):\n",
    "    print(i)\n"
   ]
  },
  {
   "cell_type": "code",
   "execution_count": 42,
   "id": "4400d571",
   "metadata": {},
   "outputs": [
    {
     "name": "stdout",
     "output_type": "stream",
     "text": [
      "Strepson\n",
      "Prawn\n",
      "Lobster\n",
      "Smash\n"
     ]
    }
   ],
   "source": [
    "# Hardcoded code not an atomate code \n",
    "for i in [3,2,1,0]:\n",
    "    print(l1[i])\n",
    "    "
   ]
  },
  {
   "cell_type": "code",
   "execution_count": 49,
   "id": "71481a19",
   "metadata": {},
   "outputs": [
    {
     "data": {
      "text/plain": [
       "[0, 2, 4, 6, 8]"
      ]
     },
     "execution_count": 49,
     "metadata": {},
     "output_type": "execute_result"
    }
   ],
   "source": [
    "l_2 = [1,2,3,4,5,6,7,8,9,10]\n",
    "# Remove the data existt in even indexes \n",
    "list(range(0,len(l_2),2))\n",
    "    "
   ]
  },
  {
   "cell_type": "code",
   "execution_count": 50,
   "id": "d371e831",
   "metadata": {},
   "outputs": [
    {
     "name": "stdout",
     "output_type": "stream",
     "text": [
      "98\n",
      "56\n",
      "23\n",
      "46\n",
      "44\n"
     ]
    }
   ],
   "source": [
    "l_2 = [98,45,56,33,23,35,46,57,44,3]\n",
    "for i in range (0,len(l_2),2):\n",
    "    print(l_2[i])"
   ]
  },
  {
   "cell_type": "code",
   "execution_count": 51,
   "id": "47a13b45",
   "metadata": {},
   "outputs": [
    {
     "data": {
      "text/plain": [
       "157"
      ]
     },
     "execution_count": 51,
     "metadata": {},
     "output_type": "execute_result"
    }
   ],
   "source": [
    "l_3 = [2,3,4,5,67,76]\n",
    "sum(l_3)"
   ]
  },
  {
   "cell_type": "code",
   "execution_count": 52,
   "id": "bee5dbd7",
   "metadata": {},
   "outputs": [
    {
     "data": {
      "text/plain": [
       "157"
      ]
     },
     "execution_count": 52,
     "metadata": {},
     "output_type": "execute_result"
    }
   ],
   "source": [
    "# Write a programme to obtain the sum of l_3 by using For Loop\n",
    "result = 0\n",
    "for i in l_3:\n",
    "    result = result+i\n",
    "result"
   ]
  },
  {
   "cell_type": "code",
   "execution_count": 53,
   "id": "92807122",
   "metadata": {},
   "outputs": [
    {
     "data": {
      "text/plain": [
       "774"
      ]
     },
     "execution_count": 53,
     "metadata": {},
     "output_type": "execute_result"
    }
   ],
   "source": [
    "# summation with tuple \n",
    "t = (9,8,6,4,4,3,575,3,5)\n",
    "for m in t :\n",
    "    result = result + m\n",
    "result"
   ]
  },
  {
   "cell_type": "code",
   "execution_count": 54,
   "id": "ad7a2701",
   "metadata": {},
   "outputs": [
    {
     "name": "stdout",
     "output_type": "stream",
     "text": [
      "1\n",
      "2\n",
      "3\n",
      "4\n",
      "5\n",
      "Shreyas\n",
      "Chillal\n",
      "23\n"
     ]
    }
   ],
   "source": [
    "# simillarly for loop works with Strings and and set\n",
    "s2  = {1,2,3,4,5,3,23,\"Shreyas\",\"Chillal\"}\n",
    "for i in s2:\n",
    "    print(i)"
   ]
  },
  {
   "cell_type": "code",
   "execution_count": 56,
   "id": "08b392aa",
   "metadata": {},
   "outputs": [
    {
     "name": "stdout",
     "output_type": "stream",
     "text": [
      "p\n",
      "w\n",
      "s\n",
      "k\n",
      "i\n",
      "l\n",
      "l\n",
      "s\n"
     ]
    }
   ],
   "source": [
    "s = \"pwskills\"\n",
    "for i in s :\n",
    "    print(i)"
   ]
  },
  {
   "cell_type": "code",
   "execution_count": 58,
   "id": "eb1cd345",
   "metadata": {},
   "outputs": [
    {
     "ename": "TypeError",
     "evalue": "'set' object cannot be interpreted as an integer",
     "output_type": "error",
     "traceback": [
      "\u001b[1;31m---------------------------------------------------------------------------\u001b[0m",
      "\u001b[1;31mTypeError\u001b[0m                                 Traceback (most recent call last)",
      "Cell \u001b[1;32mIn[58], line 1\u001b[0m\n\u001b[1;32m----> 1\u001b[0m \u001b[38;5;28;01mfor\u001b[39;00m i \u001b[38;5;129;01min\u001b[39;00m \u001b[38;5;28;43mrange\u001b[39;49m\u001b[43m \u001b[49m\u001b[43m(\u001b[49m\u001b[43ms2\u001b[49m\u001b[43m)\u001b[49m:\n\u001b[0;32m      2\u001b[0m     \u001b[38;5;28mprint\u001b[39m(i)\n",
      "\u001b[1;31mTypeError\u001b[0m: 'set' object cannot be interpreted as an integer"
     ]
    }
   ],
   "source": [
    "for i in range (s2):\n",
    "    print(i)"
   ]
  },
  {
   "cell_type": "code",
   "execution_count": 59,
   "id": "245b60ca",
   "metadata": {},
   "outputs": [],
   "source": [
    "d = {\"name\" : \"Shreyas\",\"class\":\"Data Science Masters\",\n",
    "    \"topics\":[\"python\",\"projects\",\"stats\",\"ML\",\"DL\",\"CV\",\"NLP\"]}"
   ]
  },
  {
   "cell_type": "code",
   "execution_count": 60,
   "id": "1dd99866",
   "metadata": {},
   "outputs": [
    {
     "data": {
      "text/plain": [
       "dict_keys(['name', 'class', 'topics'])"
      ]
     },
     "execution_count": 60,
     "metadata": {},
     "output_type": "execute_result"
    }
   ],
   "source": [
    "d.keys()"
   ]
  },
  {
   "cell_type": "code",
   "execution_count": 66,
   "id": "a00f0cdb",
   "metadata": {},
   "outputs": [
    {
     "data": {
      "text/plain": [
       "dict_values(['Shreyas', 'Data Science Masters', ['python', 'projects', 'stats', 'ML', 'dl', 'CV', 'NLP']])"
      ]
     },
     "execution_count": 66,
     "metadata": {},
     "output_type": "execute_result"
    }
   ],
   "source": [
    "d.values()"
   ]
  },
  {
   "cell_type": "code",
   "execution_count": 67,
   "id": "f59cf53d",
   "metadata": {},
   "outputs": [
    {
     "name": "stdout",
     "output_type": "stream",
     "text": [
      "Shreyas\n",
      "Data Science Masters\n",
      "['python', 'projects', 'stats', 'ML', 'dl', 'CV', 'NLP']\n"
     ]
    }
   ],
   "source": [
    "for i in d.keys():\n",
    "    print(d[i])"
   ]
  },
  {
   "cell_type": "code",
   "execution_count": 69,
   "id": "4e817760",
   "metadata": {},
   "outputs": [
    {
     "name": "stdout",
     "output_type": "stream",
     "text": [
      "Shreyas\n",
      "Data Science Masters\n",
      "['python', 'projects', 'stats', 'ML', 'dl', 'CV', 'NLP']\n"
     ]
    }
   ],
   "source": [
    "for i in d.values():\n",
    "    print(i)"
   ]
  },
  {
   "cell_type": "code",
   "execution_count": 70,
   "id": "e13500e9",
   "metadata": {},
   "outputs": [
    {
     "name": "stdout",
     "output_type": "stream",
     "text": [
      "('name', 'Shreyas')\n",
      "('class', 'Data Science Masters')\n",
      "('topics', ['python', 'projects', 'stats', 'ML', 'dl', 'CV', 'NLP'])\n"
     ]
    }
   ],
   "source": [
    "# items always gives the data in a tuples\n",
    "for i in d.items():\n",
    "    print(i)"
   ]
  },
  {
   "cell_type": "code",
   "execution_count": null,
   "id": "ee80764f",
   "metadata": {},
   "outputs": [],
   "source": []
  }
 ],
 "metadata": {
  "kernelspec": {
   "display_name": "Python 3 (ipykernel)",
   "language": "python",
   "name": "python3"
  },
  "language_info": {
   "codemirror_mode": {
    "name": "ipython",
    "version": 3
   },
   "file_extension": ".py",
   "mimetype": "text/x-python",
   "name": "python",
   "nbconvert_exporter": "python",
   "pygments_lexer": "ipython3",
   "version": "3.10.9"
  }
 },
 "nbformat": 4,
 "nbformat_minor": 5
}
